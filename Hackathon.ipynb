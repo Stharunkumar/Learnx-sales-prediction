{
 "cells": [
  {
   "cell_type": "markdown",
   "id": "dc12a5fe",
   "metadata": {},
   "source": [
    "## By Tharun Kumar S"
   ]
  },
  {
   "cell_type": "code",
   "execution_count": 1,
   "id": "f7c0e782",
   "metadata": {},
   "outputs": [],
   "source": [
    "#importing required libraries\n",
    "\n",
    "import pandas as pd\n",
    "import numpy as np\n",
    "\n",
    "import matplotlib.pyplot as plt\n",
    "import seaborn as sns\n",
    "\n",
    "from warnings import filterwarnings\n",
    "filterwarnings('ignore')"
   ]
  },
  {
   "cell_type": "code",
   "execution_count": 2,
   "id": "c9b51181",
   "metadata": {},
   "outputs": [
    {
     "data": {
      "text/html": [
       "<div>\n",
       "<style scoped>\n",
       "    .dataframe tbody tr th:only-of-type {\n",
       "        vertical-align: middle;\n",
       "    }\n",
       "\n",
       "    .dataframe tbody tr th {\n",
       "        vertical-align: top;\n",
       "    }\n",
       "\n",
       "    .dataframe thead th {\n",
       "        text-align: right;\n",
       "    }\n",
       "</style>\n",
       "<table border=\"1\" class=\"dataframe\">\n",
       "  <thead>\n",
       "    <tr style=\"text-align: right;\">\n",
       "      <th></th>\n",
       "      <th>ID</th>\n",
       "      <th>Day_No</th>\n",
       "      <th>Course_ID</th>\n",
       "      <th>Course_Domain</th>\n",
       "      <th>Course_Type</th>\n",
       "      <th>Short_Promotion</th>\n",
       "      <th>Public_Holiday</th>\n",
       "      <th>Long_Promotion</th>\n",
       "      <th>User_Traffic</th>\n",
       "      <th>Competition_Metric</th>\n",
       "      <th>Sales</th>\n",
       "    </tr>\n",
       "  </thead>\n",
       "  <tbody>\n",
       "    <tr>\n",
       "      <th>0</th>\n",
       "      <td>1</td>\n",
       "      <td>1</td>\n",
       "      <td>1</td>\n",
       "      <td>Development</td>\n",
       "      <td>Course</td>\n",
       "      <td>0</td>\n",
       "      <td>1</td>\n",
       "      <td>1</td>\n",
       "      <td>11004</td>\n",
       "      <td>0.007</td>\n",
       "      <td>81</td>\n",
       "    </tr>\n",
       "    <tr>\n",
       "      <th>1</th>\n",
       "      <td>2</td>\n",
       "      <td>2</td>\n",
       "      <td>1</td>\n",
       "      <td>Development</td>\n",
       "      <td>Course</td>\n",
       "      <td>0</td>\n",
       "      <td>0</td>\n",
       "      <td>1</td>\n",
       "      <td>13650</td>\n",
       "      <td>0.007</td>\n",
       "      <td>79</td>\n",
       "    </tr>\n",
       "    <tr>\n",
       "      <th>2</th>\n",
       "      <td>3</td>\n",
       "      <td>3</td>\n",
       "      <td>1</td>\n",
       "      <td>Development</td>\n",
       "      <td>Course</td>\n",
       "      <td>0</td>\n",
       "      <td>0</td>\n",
       "      <td>1</td>\n",
       "      <td>11655</td>\n",
       "      <td>0.007</td>\n",
       "      <td>75</td>\n",
       "    </tr>\n",
       "    <tr>\n",
       "      <th>3</th>\n",
       "      <td>4</td>\n",
       "      <td>4</td>\n",
       "      <td>1</td>\n",
       "      <td>Development</td>\n",
       "      <td>Course</td>\n",
       "      <td>0</td>\n",
       "      <td>0</td>\n",
       "      <td>1</td>\n",
       "      <td>12054</td>\n",
       "      <td>0.007</td>\n",
       "      <td>80</td>\n",
       "    </tr>\n",
       "    <tr>\n",
       "      <th>4</th>\n",
       "      <td>5</td>\n",
       "      <td>5</td>\n",
       "      <td>1</td>\n",
       "      <td>Development</td>\n",
       "      <td>Course</td>\n",
       "      <td>0</td>\n",
       "      <td>0</td>\n",
       "      <td>1</td>\n",
       "      <td>6804</td>\n",
       "      <td>0.007</td>\n",
       "      <td>41</td>\n",
       "    </tr>\n",
       "  </tbody>\n",
       "</table>\n",
       "</div>"
      ],
      "text/plain": [
       "   ID  Day_No  Course_ID Course_Domain Course_Type  Short_Promotion  \\\n",
       "0   1       1          1   Development      Course                0   \n",
       "1   2       2          1   Development      Course                0   \n",
       "2   3       3          1   Development      Course                0   \n",
       "3   4       4          1   Development      Course                0   \n",
       "4   5       5          1   Development      Course                0   \n",
       "\n",
       "   Public_Holiday  Long_Promotion  User_Traffic  Competition_Metric  Sales  \n",
       "0               1               1         11004               0.007     81  \n",
       "1               0               1         13650               0.007     79  \n",
       "2               0               1         11655               0.007     75  \n",
       "3               0               1         12054               0.007     80  \n",
       "4               0               1          6804               0.007     41  "
      ]
     },
     "execution_count": 2,
     "metadata": {},
     "output_type": "execute_result"
    }
   ],
   "source": [
    "#read the dataset from local drive\n",
    "\n",
    "df = pd.read_csv('train.csv')\n",
    "df.head()"
   ]
  },
  {
   "cell_type": "code",
   "execution_count": 3,
   "id": "272f84bf",
   "metadata": {},
   "outputs": [
    {
     "data": {
      "text/html": [
       "<div>\n",
       "<style scoped>\n",
       "    .dataframe tbody tr th:only-of-type {\n",
       "        vertical-align: middle;\n",
       "    }\n",
       "\n",
       "    .dataframe tbody tr th {\n",
       "        vertical-align: top;\n",
       "    }\n",
       "\n",
       "    .dataframe thead th {\n",
       "        text-align: right;\n",
       "    }\n",
       "</style>\n",
       "<table border=\"1\" class=\"dataframe\">\n",
       "  <thead>\n",
       "    <tr style=\"text-align: right;\">\n",
       "      <th></th>\n",
       "      <th>ID</th>\n",
       "      <th>Day_No</th>\n",
       "      <th>Course_ID</th>\n",
       "      <th>Course_Domain</th>\n",
       "      <th>Course_Type</th>\n",
       "      <th>Short_Promotion</th>\n",
       "      <th>Public_Holiday</th>\n",
       "      <th>Long_Promotion</th>\n",
       "      <th>Competition_Metric</th>\n",
       "    </tr>\n",
       "  </thead>\n",
       "  <tbody>\n",
       "    <tr>\n",
       "      <th>0</th>\n",
       "      <td>883</td>\n",
       "      <td>883</td>\n",
       "      <td>1</td>\n",
       "      <td>Development</td>\n",
       "      <td>Course</td>\n",
       "      <td>1</td>\n",
       "      <td>0</td>\n",
       "      <td>1</td>\n",
       "      <td>0.007</td>\n",
       "    </tr>\n",
       "    <tr>\n",
       "      <th>1</th>\n",
       "      <td>884</td>\n",
       "      <td>884</td>\n",
       "      <td>1</td>\n",
       "      <td>Development</td>\n",
       "      <td>Course</td>\n",
       "      <td>1</td>\n",
       "      <td>0</td>\n",
       "      <td>1</td>\n",
       "      <td>0.007</td>\n",
       "    </tr>\n",
       "    <tr>\n",
       "      <th>2</th>\n",
       "      <td>885</td>\n",
       "      <td>885</td>\n",
       "      <td>1</td>\n",
       "      <td>Development</td>\n",
       "      <td>Course</td>\n",
       "      <td>1</td>\n",
       "      <td>0</td>\n",
       "      <td>1</td>\n",
       "      <td>0.007</td>\n",
       "    </tr>\n",
       "    <tr>\n",
       "      <th>3</th>\n",
       "      <td>886</td>\n",
       "      <td>886</td>\n",
       "      <td>1</td>\n",
       "      <td>Development</td>\n",
       "      <td>Course</td>\n",
       "      <td>1</td>\n",
       "      <td>0</td>\n",
       "      <td>1</td>\n",
       "      <td>0.007</td>\n",
       "    </tr>\n",
       "    <tr>\n",
       "      <th>4</th>\n",
       "      <td>887</td>\n",
       "      <td>887</td>\n",
       "      <td>1</td>\n",
       "      <td>Development</td>\n",
       "      <td>Course</td>\n",
       "      <td>0</td>\n",
       "      <td>0</td>\n",
       "      <td>1</td>\n",
       "      <td>0.007</td>\n",
       "    </tr>\n",
       "  </tbody>\n",
       "</table>\n",
       "</div>"
      ],
      "text/plain": [
       "    ID  Day_No  Course_ID Course_Domain Course_Type  Short_Promotion  \\\n",
       "0  883     883          1   Development      Course                1   \n",
       "1  884     884          1   Development      Course                1   \n",
       "2  885     885          1   Development      Course                1   \n",
       "3  886     886          1   Development      Course                1   \n",
       "4  887     887          1   Development      Course                0   \n",
       "\n",
       "   Public_Holiday  Long_Promotion  Competition_Metric  \n",
       "0               0               1               0.007  \n",
       "1               0               1               0.007  \n",
       "2               0               1               0.007  \n",
       "3               0               1               0.007  \n",
       "4               0               1               0.007  "
      ]
     },
     "execution_count": 3,
     "metadata": {},
     "output_type": "execute_result"
    }
   ],
   "source": [
    "df_eval = pd.read_csv('test_TyVG1cP.csv')\n",
    "df_eval.head()"
   ]
  },
  {
   "cell_type": "code",
   "execution_count": 4,
   "id": "0f19d0bd",
   "metadata": {},
   "outputs": [],
   "source": [
    "copy_df = df.copy()\n",
    "copy_df_eval = df_eval.copy()"
   ]
  },
  {
   "cell_type": "code",
   "execution_count": 5,
   "id": "8ba02a39",
   "metadata": {},
   "outputs": [
    {
     "data": {
      "text/plain": [
       "((512087, 11), (36000, 9))"
      ]
     },
     "execution_count": 5,
     "metadata": {},
     "output_type": "execute_result"
    }
   ],
   "source": [
    "#shape of model dataset & evaluation dataset\n",
    "df.shape, df_eval.shape"
   ]
  },
  {
   "cell_type": "code",
   "execution_count": 6,
   "id": "45552343",
   "metadata": {},
   "outputs": [
    {
     "name": "stdout",
     "output_type": "stream",
     "text": [
      "<class 'pandas.core.frame.DataFrame'>\n",
      "RangeIndex: 512087 entries, 0 to 512086\n",
      "Data columns (total 11 columns):\n",
      " #   Column              Non-Null Count   Dtype  \n",
      "---  ------              --------------   -----  \n",
      " 0   ID                  512087 non-null  int64  \n",
      " 1   Day_No              512087 non-null  int64  \n",
      " 2   Course_ID           512087 non-null  int64  \n",
      " 3   Course_Domain       512087 non-null  object \n",
      " 4   Course_Type         512087 non-null  object \n",
      " 5   Short_Promotion     512087 non-null  int64  \n",
      " 6   Public_Holiday      512087 non-null  int64  \n",
      " 7   Long_Promotion      512087 non-null  int64  \n",
      " 8   User_Traffic        512087 non-null  int64  \n",
      " 9   Competition_Metric  510323 non-null  float64\n",
      " 10  Sales               512087 non-null  int64  \n",
      "dtypes: float64(1), int64(8), object(2)\n",
      "memory usage: 43.0+ MB\n"
     ]
    }
   ],
   "source": [
    "#features and datatypes\n",
    "\n",
    "df.info()\n",
    "\n",
    "#all the variables are in their respective datatype"
   ]
  },
  {
   "cell_type": "code",
   "execution_count": 7,
   "id": "093760ba",
   "metadata": {},
   "outputs": [
    {
     "name": "stdout",
     "output_type": "stream",
     "text": [
      "Numerical variables :  Index(['ID', 'Day_No', 'Course_ID', 'Short_Promotion', 'Public_Holiday',\n",
      "       'Long_Promotion', 'User_Traffic', 'Competition_Metric', 'Sales'],\n",
      "      dtype='object')\n",
      "\n",
      "Categorical variables :  Index(['Course_Domain', 'Course_Type'], dtype='object')\n"
     ]
    }
   ],
   "source": [
    "#exploring the category of variables\n",
    "\n",
    "print('Numerical variables : ', df.select_dtypes(include='number').columns)\n",
    "\n",
    "print('\\nCategorical variables : ', df.select_dtypes(exclude='number').columns)"
   ]
  },
  {
   "cell_type": "code",
   "execution_count": 8,
   "id": "a8ae6c8e",
   "metadata": {},
   "outputs": [
    {
     "data": {
      "text/plain": [
       "ID                       0\n",
       "Day_No                   0\n",
       "Course_ID                0\n",
       "Course_Domain            0\n",
       "Course_Type              0\n",
       "Short_Promotion          0\n",
       "Public_Holiday           0\n",
       "Long_Promotion           0\n",
       "User_Traffic             0\n",
       "Competition_Metric    1764\n",
       "Sales                    0\n",
       "dtype: int64"
      ]
     },
     "execution_count": 8,
     "metadata": {},
     "output_type": "execute_result"
    }
   ],
   "source": [
    "#check for null values\n",
    "df.isnull().sum()\n",
    "\n",
    "#there are some null values in Competition_Metric, we will treat the same in later stage"
   ]
  },
  {
   "cell_type": "code",
   "execution_count": 9,
   "id": "1ea26e5b",
   "metadata": {},
   "outputs": [
    {
     "data": {
      "text/plain": [
       "False    512087\n",
       "dtype: int64"
      ]
     },
     "execution_count": 9,
     "metadata": {},
     "output_type": "execute_result"
    }
   ],
   "source": [
    "#check for duplicate values\n",
    "\n",
    "df.duplicated().value_counts()\n",
    "#There are no duplicate values"
   ]
  },
  {
   "cell_type": "markdown",
   "id": "c06f1278",
   "metadata": {},
   "source": [
    "# Exploratory Data Analysis\n",
    "\n",
    "## * Univariate Analysis"
   ]
  },
  {
   "cell_type": "markdown",
   "id": "9e10d43f",
   "metadata": {},
   "source": [
    "### Target feature - Sales"
   ]
  },
  {
   "cell_type": "code",
   "execution_count": 10,
   "id": "a9694037",
   "metadata": {},
   "outputs": [
    {
     "data": {
      "image/png": "[encoded data removed]",
      "text/plain": [
       "<Figure size 432x288 with 1 Axes>"
      ]
     },
     "metadata": {
      "needs_background": "light"
     },
     "output_type": "display_data"
    }
   ],
   "source": [
    "#Lets check the distribution of the Sales variable\n",
    "sns.distplot(df['Sales'])\n",
    "plt.show()"
   ]
  },
  {
   "cell_type": "code",
   "execution_count": 11,
   "id": "310530cd",
   "metadata": {},
   "outputs": [
    {
     "name": "stdout",
     "output_type": "stream",
     "text": [
      "Skewness of Sales : 1.374769816079381\n",
      "Kurtosis of Sales : 3.6095060518605546\n"
     ]
    }
   ],
   "source": [
    "#The data is right-skewed, seems it has some outliers present. We can explore it further.\n",
    "\n",
    "print('Skewness of Sales :', df['Sales'].skew())\n",
    "print('Kurtosis of Sales :', df['Sales'].kurt())\n",
    "\n",
    "#Sales variable is Right skewed and Leptokurtic in nature."
   ]
  },
  {
   "cell_type": "code",
   "execution_count": 12,
   "id": "d3be0694",
   "metadata": {},
   "outputs": [
    {
     "data": {
      "text/plain": [
       "(0, 682)"
      ]
     },
     "execution_count": 12,
     "metadata": {},
     "output_type": "execute_result"
    }
   ],
   "source": [
    "#Range of values, min value & Max value\n",
    "\n",
    "df['Sales'].min(), df['Sales'].max()"
   ]
  },
  {
   "cell_type": "code",
   "execution_count": 13,
   "id": "d835f272",
   "metadata": {},
   "outputs": [
    {
     "data": {
      "text/plain": [
       "<AxesSubplot:xlabel='Sales'>"
      ]
     },
     "execution_count": 13,
     "metadata": {},
     "output_type": "execute_result"
    },
    {
     "data": {
      "image/png": "[encoded data removed]",
      "text/plain": [
       "<Figure size 432x288 with 1 Axes>"
      ]
     },
     "metadata": {
      "needs_background": "light"
     },
     "output_type": "display_data"
    }
   ],
   "source": [
    "#box plot to check for outliers\n",
    "sns.boxplot(df['Sales'])"
   ]
  },
  {
   "cell_type": "code",
   "execution_count": 14,
   "id": "fe156f4e",
   "metadata": {},
   "outputs": [
    {
     "data": {
      "text/plain": [
       "(18707, 11)"
      ]
     },
     "execution_count": 14,
     "metadata": {},
     "output_type": "execute_result"
    }
   ],
   "source": [
    "#there is a huge outliers, we can find out the percentage of the outliers\n",
    "q1 = df['Sales'].quantile(0.25)\n",
    "q3 = df['Sales'].quantile(0.75)\n",
    "\n",
    "iqr = q3 - q1\n",
    "\n",
    "ll = q1 - 1.5 * iqr\n",
    "ul = q3 + 1.5 * iqr\n",
    "\n",
    "df[~((df['Sales'] > ll) & (df['Sales'] < ul))].shape"
   ]
  },
  {
   "cell_type": "code",
   "execution_count": 15,
   "id": "8a0d044c",
   "metadata": {},
   "outputs": [
    {
     "data": {
      "text/plain": [
       "0.03653090197564086"
      ]
     },
     "execution_count": 15,
     "metadata": {},
     "output_type": "execute_result"
    }
   ],
   "source": [
    "18707/512087\n",
    "\n",
    "#around 3.65% of the data is outlier."
   ]
  },
  {
   "cell_type": "markdown",
   "id": "f0332ff0",
   "metadata": {},
   "source": [
    "### ID"
   ]
  },
  {
   "cell_type": "code",
   "execution_count": 16,
   "id": "5bbab282",
   "metadata": {},
   "outputs": [
    {
     "data": {
      "text/plain": [
       "512087"
      ]
     },
     "execution_count": 16,
     "metadata": {},
     "output_type": "execute_result"
    }
   ],
   "source": [
    "df['ID'].nunique()\n",
    "\n",
    "#each and every record has unique value\n",
    "#ID is a redundant variable and we can drop the variable"
   ]
  },
  {
   "cell_type": "code",
   "execution_count": 17,
   "id": "22089caf",
   "metadata": {},
   "outputs": [],
   "source": [
    "df.drop('ID', axis=1, inplace=True)"
   ]
  },
  {
   "cell_type": "markdown",
   "id": "622188e6",
   "metadata": {},
   "source": [
    "### Day_No"
   ]
  },
  {
   "cell_type": "code",
   "execution_count": 18,
   "id": "6a06122e",
   "metadata": {},
   "outputs": [
    {
     "data": {
      "text/plain": [
       "882"
      ]
     },
     "execution_count": 18,
     "metadata": {},
     "output_type": "execute_result"
    }
   ],
   "source": [
    "df['Day_No'].nunique()\n",
    "\n",
    "#There are around 900 unique values, we can check for significance and proceed"
   ]
  },
  {
   "cell_type": "code",
   "execution_count": 19,
   "id": "69aeb287",
   "metadata": {},
   "outputs": [
    {
     "data": {
      "text/plain": [
       "256    600\n",
       "150    600\n",
       "401    600\n",
       "146    600\n",
       "402    600\n",
       "      ... \n",
       "650    507\n",
       "709    507\n",
       "550    507\n",
       "580    507\n",
       "622    507\n",
       "Name: Day_No, Length: 882, dtype: int64"
      ]
     },
     "execution_count": 19,
     "metadata": {},
     "output_type": "execute_result"
    }
   ],
   "source": [
    "df['Day_No'].value_counts()"
   ]
  },
  {
   "cell_type": "code",
   "execution_count": 20,
   "id": "320b5aa7",
   "metadata": {},
   "outputs": [
    {
     "data": {
      "text/plain": [
       "<AxesSubplot:xlabel='Day_No', ylabel='Density'>"
      ]
     },
     "execution_count": 20,
     "metadata": {},
     "output_type": "execute_result"
    },
    {
     "data": {
      "image/png": "[encoded data removed]",
      "text/plain": [
       "<Figure size 432x288 with 1 Axes>"
      ]
     },
     "metadata": {
      "needs_background": "light"
     },
     "output_type": "display_data"
    }
   ],
   "source": [
    "#will plot distribution of frequencies of DAY_NO to explore\n",
    "a = df['Day_No'].value_counts()\n",
    "\n",
    "sns.distplot(a)\n",
    "#we can check for significance"
   ]
  },
  {
   "cell_type": "markdown",
   "id": "663a94b1",
   "metadata": {},
   "source": [
    "### Course related variables"
   ]
  },
  {
   "cell_type": "code",
   "execution_count": 21,
   "id": "77937ef5",
   "metadata": {},
   "outputs": [
    {
     "data": {
      "text/plain": [
       "600"
      ]
     },
     "execution_count": 21,
     "metadata": {},
     "output_type": "execute_result"
    }
   ],
   "source": [
    "df['Course_ID'].nunique()"
   ]
  },
  {
   "cell_type": "code",
   "execution_count": 22,
   "id": "f3c840be",
   "metadata": {},
   "outputs": [
    {
     "data": {
      "text/plain": [
       "256    882\n",
       "152    882\n",
       "148    882\n",
       "149    882\n",
       "405    882\n",
       "      ... \n",
       "432    698\n",
       "435    698\n",
       "436    698\n",
       "181    698\n",
       "511    698\n",
       "Name: Course_ID, Length: 600, dtype: int64"
      ]
     },
     "execution_count": 22,
     "metadata": {},
     "output_type": "execute_result"
    }
   ],
   "source": [
    "df['Course_ID'].value_counts()"
   ]
  },
  {
   "cell_type": "code",
   "execution_count": 23,
   "id": "edcd79dc",
   "metadata": {},
   "outputs": [
    {
     "data": {
      "text/plain": [
       "<AxesSubplot:xlabel='Course_ID', ylabel='Density'>"
      ]
     },
     "execution_count": 23,
     "metadata": {},
     "output_type": "execute_result"
    },
    {
     "data": {
      "image/png": "[encoded data removed]",
      "text/plain": [
       "<Figure size 432x288 with 1 Axes>"
      ]
     },
     "metadata": {
      "needs_background": "light"
     },
     "output_type": "display_data"
    }
   ],
   "source": [
    "sns.distplot(df['Course_ID'].value_counts())\n",
    "#we can check for significance"
   ]
  },
  {
   "cell_type": "markdown",
   "id": "2853c003",
   "metadata": {},
   "source": [
    "#### Course_Domain"
   ]
  },
  {
   "cell_type": "code",
   "execution_count": 24,
   "id": "165e0494",
   "metadata": {},
   "outputs": [
    {
     "data": {
      "text/plain": [
       "Development             264295\n",
       "Software Marketing      166172\n",
       "Finance & Accounting     77210\n",
       "Business                  4410\n",
       "Name: Course_Domain, dtype: int64"
      ]
     },
     "execution_count": 24,
     "metadata": {},
     "output_type": "execute_result"
    }
   ],
   "source": [
    "df['Course_Domain'].value_counts()"
   ]
  },
  {
   "cell_type": "code",
   "execution_count": 25,
   "id": "42cefd03",
   "metadata": {},
   "outputs": [
    {
     "data": {
      "text/plain": [
       "<AxesSubplot:xlabel='Course_Domain', ylabel='count'>"
      ]
     },
     "execution_count": 25,
     "metadata": {},
     "output_type": "execute_result"
    },
    {
     "data": {
      "image/png": "[encoded data removed]",
      "text/plain": [
       "<Figure size 720x576 with 1 Axes>"
      ]
     },
     "metadata": {
      "needs_background": "light"
     },
     "output_type": "display_data"
    }
   ],
   "source": [
    "plt.figure(figsize=(10,8))\n",
    "sns.countplot(df['Course_Domain'])"
   ]
  },
  {
   "cell_type": "code",
   "execution_count": 26,
   "id": "a24667f0",
   "metadata": {},
   "outputs": [
    {
     "data": {
      "text/plain": [
       "<AxesSubplot:xlabel='Course_Type', ylabel='count'>"
      ]
     },
     "execution_count": 26,
     "metadata": {},
     "output_type": "execute_result"
    },
    {
     "data": {
      "image/png": "[encoded data removed]",
      "text/plain": [
       "<Figure size 432x288 with 1 Axes>"
      ]
     },
     "metadata": {
      "needs_background": "light"
     },
     "output_type": "display_data"
    }
   ],
   "source": [
    "sns.countplot(df['Course_Type'])"
   ]
  },
  {
   "cell_type": "markdown",
   "id": "1faec7aa",
   "metadata": {},
   "source": [
    "### Promotion"
   ]
  },
  {
   "cell_type": "code",
   "execution_count": 27,
   "id": "5065fca2",
   "metadata": {},
   "outputs": [
    {
     "data": {
      "text/plain": [
       "<AxesSubplot:xlabel='Short_Promotion', ylabel='count'>"
      ]
     },
     "execution_count": 27,
     "metadata": {},
     "output_type": "execute_result"
    },
    {
     "data": {
      "image/png": "[encoded data removed]",
      "text/plain": [
       "<Figure size 432x288 with 1 Axes>"
      ]
     },
     "metadata": {
      "needs_background": "light"
     },
     "output_type": "display_data"
    }
   ],
   "source": [
    "sns.countplot(df['Short_Promotion'])\n"
   ]
  },
  {
   "cell_type": "code",
   "execution_count": 28,
   "id": "b2222078",
   "metadata": {},
   "outputs": [
    {
     "data": {
      "text/plain": [
       "<AxesSubplot:xlabel='Public_Holiday', ylabel='count'>"
      ]
     },
     "execution_count": 28,
     "metadata": {},
     "output_type": "execute_result"
    },
    {
     "data": {
      "image/png": "[encoded data removed]",
      "text/plain": [
       "<Figure size 432x288 with 1 Axes>"
      ]
     },
     "metadata": {
      "needs_background": "light"
     },
     "output_type": "display_data"
    }
   ],
   "source": [
    "sns.countplot(df['Public_Holiday'])"
   ]
  },
  {
   "cell_type": "code",
   "execution_count": 29,
   "id": "4b422091",
   "metadata": {},
   "outputs": [
    {
     "data": {
      "text/plain": [
       "<AxesSubplot:xlabel='Long_Promotion', ylabel='count'>"
      ]
     },
     "execution_count": 29,
     "metadata": {},
     "output_type": "execute_result"
    },
    {
     "data": {
      "image/png": "[encoded data removed]",
      "text/plain": [
       "<Figure size 432x288 with 1 Axes>"
      ]
     },
     "metadata": {
      "needs_background": "light"
     },
     "output_type": "display_data"
    }
   ],
   "source": [
    "sns.countplot(df['Long_Promotion'])"
   ]
  },
  {
   "cell_type": "markdown",
   "id": "0556e41f",
   "metadata": {},
   "source": [
    "### User Traffic"
   ]
  },
  {
   "cell_type": "code",
   "execution_count": 30,
   "id": "20e37449",
   "metadata": {},
   "outputs": [
    {
     "data": {
      "text/plain": [
       "count    512087.000000\n",
       "mean      15375.101198\n",
       "std        7727.231205\n",
       "min         168.000000\n",
       "25%       10584.000000\n",
       "50%       13776.000000\n",
       "75%       18123.000000\n",
       "max      100002.000000\n",
       "Name: User_Traffic, dtype: float64"
      ]
     },
     "execution_count": 30,
     "metadata": {},
     "output_type": "execute_result"
    }
   ],
   "source": [
    "df['User_Traffic'].describe()"
   ]
  },
  {
   "cell_type": "code",
   "execution_count": 31,
   "id": "f1f3148f",
   "metadata": {},
   "outputs": [],
   "source": [
    "#Evaluation data doesnt have User_Traffic variable"
   ]
  },
  {
   "cell_type": "code",
   "execution_count": 32,
   "id": "896a3543",
   "metadata": {},
   "outputs": [
    {
     "data": {
      "text/plain": [
       "<AxesSubplot:xlabel='User_Traffic', ylabel='Density'>"
      ]
     },
     "execution_count": 32,
     "metadata": {},
     "output_type": "execute_result"
    },
    {
     "data": {
      "image/png": "[encoded data removed]",
      "text/plain": [
       "<Figure size 432x288 with 1 Axes>"
      ]
     },
     "metadata": {
      "needs_background": "light"
     },
     "output_type": "display_data"
    }
   ],
   "source": [
    "sns.distplot(df['User_Traffic'])"
   ]
  },
  {
   "cell_type": "code",
   "execution_count": 33,
   "id": "d4b162bb",
   "metadata": {},
   "outputs": [
    {
     "data": {
      "text/plain": [
       "<AxesSubplot:xlabel='User_Traffic'>"
      ]
     },
     "execution_count": 33,
     "metadata": {},
     "output_type": "execute_result"
    },
    {
     "data": {
      "image/png": "[encoded data removed]",
      "text/plain": [
       "<Figure size 432x288 with 1 Axes>"
      ]
     },
     "metadata": {
      "needs_background": "light"
     },
     "output_type": "display_data"
    }
   ],
   "source": [
    "sns.boxplot(df['User_Traffic'])"
   ]
  },
  {
   "cell_type": "code",
   "execution_count": 34,
   "id": "51bc0c04",
   "metadata": {},
   "outputs": [],
   "source": [
    "#Right-skewed, Leptokurtic, Outliers are present"
   ]
  },
  {
   "cell_type": "markdown",
   "id": "2897372f",
   "metadata": {},
   "source": [
    "### Competition_Metric"
   ]
  },
  {
   "cell_type": "code",
   "execution_count": 35,
   "id": "db5afc54",
   "metadata": {},
   "outputs": [
    {
     "data": {
      "text/plain": [
       "count    510323.000000\n",
       "mean          0.073345\n",
       "std           0.100115\n",
       "min           0.000000\n",
       "25%           0.010000\n",
       "50%           0.035000\n",
       "75%           0.094000\n",
       "max           0.768000\n",
       "Name: Competition_Metric, dtype: float64"
      ]
     },
     "execution_count": 35,
     "metadata": {},
     "output_type": "execute_result"
    }
   ],
   "source": [
    "df['Competition_Metric'].describe()"
   ]
  },
  {
   "cell_type": "code",
   "execution_count": 36,
   "id": "80d05d15",
   "metadata": {},
   "outputs": [
    {
     "data": {
      "text/plain": [
       "<AxesSubplot:xlabel='Competition_Metric', ylabel='Density'>"
      ]
     },
     "execution_count": 36,
     "metadata": {},
     "output_type": "execute_result"
    },
    {
     "data": {
      "image/png": "[encoded data removed]",
      "text/plain": [
       "<Figure size 432x288 with 1 Axes>"
      ]
     },
     "metadata": {
      "needs_background": "light"
     },
     "output_type": "display_data"
    }
   ],
   "source": [
    "sns.distplot(df['Competition_Metric'])"
   ]
  },
  {
   "cell_type": "code",
   "execution_count": 37,
   "id": "7c01b11f",
   "metadata": {},
   "outputs": [
    {
     "data": {
      "text/plain": [
       "<AxesSubplot:xlabel='Competition_Metric'>"
      ]
     },
     "execution_count": 37,
     "metadata": {},
     "output_type": "execute_result"
    },
    {
     "data": {
      "image/png": "[encoded data removed]",
      "text/plain": [
       "<Figure size 432x288 with 1 Axes>"
      ]
     },
     "metadata": {
      "needs_background": "light"
     },
     "output_type": "display_data"
    }
   ],
   "source": [
    "sns.boxplot(df['Competition_Metric'])"
   ]
  },
  {
   "cell_type": "code",
   "execution_count": 38,
   "id": "d98f036f",
   "metadata": {},
   "outputs": [],
   "source": [
    "#Right-skewed, Leptokurtic, Outliers are present"
   ]
  },
  {
   "cell_type": "code",
   "execution_count": 39,
   "id": "77061333",
   "metadata": {},
   "outputs": [
    {
     "data": {
      "text/plain": [
       "1764"
      ]
     },
     "execution_count": 39,
     "metadata": {},
     "output_type": "execute_result"
    }
   ],
   "source": [
    "df['Competition_Metric'].isnull().sum()\n",
    "\n",
    "#0.03% null values are present."
   ]
  },
  {
   "cell_type": "markdown",
   "id": "17b5006c",
   "metadata": {},
   "source": [
    "## Bivariate analysis"
   ]
  },
  {
   "cell_type": "code",
   "execution_count": 40,
   "id": "eb419902",
   "metadata": {},
   "outputs": [
    {
     "data": {
      "text/plain": [
       "<AxesSubplot:xlabel='Sales', ylabel='User_Traffic'>"
      ]
     },
     "execution_count": 40,
     "metadata": {},
     "output_type": "execute_result"
    },
    {
     "data": {
      "image/png": "[encoded data removed]",
      "text/plain": [
       "<Figure size 432x288 with 1 Axes>"
      ]
     },
     "metadata": {
      "needs_background": "light"
     },
     "output_type": "display_data"
    }
   ],
   "source": [
    "sns.scatterplot(df['Sales'], df['User_Traffic'])\n",
    "#there is a positive relationship betwenn Sales & User_Traffic"
   ]
  },
  {
   "cell_type": "code",
   "execution_count": 41,
   "id": "e9c4efc7",
   "metadata": {},
   "outputs": [
    {
     "data": {
      "text/plain": [
       "<AxesSubplot:xlabel='Sales', ylabel='Day_No'>"
      ]
     },
     "execution_count": 41,
     "metadata": {},
     "output_type": "execute_result"
    },
    {
     "data": {
      "image/png": "[encoded data removed]",
      "text/plain": [
       "<Figure size 432x288 with 1 Axes>"
      ]
     },
     "metadata": {
      "needs_background": "light"
     },
     "output_type": "display_data"
    }
   ],
   "source": [
    "sns.scatterplot(df['Sales'], df['Day_No'])\n",
    "\n",
    "#there is no signiicant relation between Sales & Day_no"
   ]
  },
  {
   "cell_type": "code",
   "execution_count": 42,
   "id": "5bbc6826",
   "metadata": {},
   "outputs": [],
   "source": [
    "#sns.swarmplot(df['Course_Domain'], df['Sales'])"
   ]
  },
  {
   "cell_type": "code",
   "execution_count": 43,
   "id": "6ff08c2b",
   "metadata": {},
   "outputs": [],
   "source": [
    "#sns.pairplot(df)"
   ]
  },
  {
   "cell_type": "code",
   "execution_count": 44,
   "id": "b3947efd",
   "metadata": {},
   "outputs": [
    {
     "data": {
      "text/plain": [
       "Index(['Day_No', 'Course_ID', 'Course_Domain', 'Course_Type',\n",
       "       'Short_Promotion', 'Public_Holiday', 'Long_Promotion', 'User_Traffic',\n",
       "       'Competition_Metric', 'Sales'],\n",
       "      dtype='object')"
      ]
     },
     "execution_count": 44,
     "metadata": {},
     "output_type": "execute_result"
    }
   ],
   "source": [
    "df.columns"
   ]
  },
  {
   "cell_type": "markdown",
   "id": "a13861b3",
   "metadata": {},
   "source": [
    "## Statistical Analysis to find significance of variables"
   ]
  },
  {
   "cell_type": "code",
   "execution_count": 45,
   "id": "bdc44c18",
   "metadata": {},
   "outputs": [],
   "source": [
    "from scipy import stats"
   ]
  },
  {
   "cell_type": "code",
   "execution_count": 46,
   "id": "8f6fb397",
   "metadata": {},
   "outputs": [
    {
     "data": {
      "text/plain": [
       "ShapiroResult(statistic=0.9205013513565063, pvalue=0.0)"
      ]
     },
     "execution_count": 46,
     "metadata": {},
     "output_type": "execute_result"
    }
   ],
   "source": [
    "#to check normality of Sales\n",
    "\n",
    "#Ho : Data is normal\n",
    "#H1 : Data is not normal\n",
    "\n",
    "stats.shapiro(df['Sales'])\n",
    "#reject null, Data is not normal"
   ]
  },
  {
   "cell_type": "code",
   "execution_count": 47,
   "id": "6dcddff9",
   "metadata": {},
   "outputs": [
    {
     "data": {
      "text/plain": [
       "SpearmanrResult(correlation=0.0675377440728548, pvalue=0.0)"
      ]
     },
     "execution_count": 47,
     "metadata": {},
     "output_type": "execute_result"
    }
   ],
   "source": [
    "stats.spearmanr(df['Sales'], df['Day_No'])"
   ]
  },
  {
   "cell_type": "code",
   "execution_count": 48,
   "id": "1f4f30e2",
   "metadata": {},
   "outputs": [
    {
     "data": {
      "text/plain": [
       "SpearmanrResult(correlation=0.8353295628808376, pvalue=0.0)"
      ]
     },
     "execution_count": 48,
     "metadata": {},
     "output_type": "execute_result"
    }
   ],
   "source": [
    "stats.spearmanr(df['Sales'], df['User_Traffic'])"
   ]
  },
  {
   "cell_type": "code",
   "execution_count": 49,
   "id": "a0fa0d7c",
   "metadata": {},
   "outputs": [
    {
     "data": {
      "text/plain": [
       "<AxesSubplot:>"
      ]
     },
     "execution_count": 49,
     "metadata": {},
     "output_type": "execute_result"
    },
    {
     "data": {
      "image/png": "[encoded data removed]",
      "text/plain": [
       "<Figure size 720x720 with 2 Axes>"
      ]
     },
     "metadata": {
      "needs_background": "light"
     },
     "output_type": "display_data"
    }
   ],
   "source": [
    "plt.figure(figsize=(10,10))\n",
    "sns.heatmap(df.corr(), linewidths=1, annot=True)\n",
    "\n",
    "#User traffic is most importtant feature to predict Target"
   ]
  },
  {
   "cell_type": "markdown",
   "id": "222bd8ef",
   "metadata": {},
   "source": [
    "## Data preprocessing (model dataset)"
   ]
  },
  {
   "cell_type": "code",
   "execution_count": 50,
   "id": "5d464b57",
   "metadata": {},
   "outputs": [
    {
     "data": {
      "text/plain": [
       "Index(['Day_No', 'Course_ID', 'Course_Domain', 'Course_Type',\n",
       "       'Short_Promotion', 'Public_Holiday', 'Long_Promotion', 'User_Traffic',\n",
       "       'Competition_Metric', 'Sales'],\n",
       "      dtype='object')"
      ]
     },
     "execution_count": 50,
     "metadata": {},
     "output_type": "execute_result"
    }
   ],
   "source": [
    "df.columns"
   ]
  },
  {
   "cell_type": "markdown",
   "id": "e9c0fc54",
   "metadata": {},
   "source": [
    "#### Remove outliers from Sales col"
   ]
  },
  {
   "cell_type": "code",
   "execution_count": 51,
   "id": "ab878c80",
   "metadata": {},
   "outputs": [],
   "source": [
    "#there is a huge outliers, we can find out the percentage of the outliers\n",
    "q1 = df['Sales'].quantile(0.25)\n",
    "q3 = df['Sales'].quantile(0.75)\n",
    "\n",
    "iqr = q3 - q1\n",
    "\n",
    "ll = q1 - 1.5 * iqr\n",
    "ul = q3 + 1.5 * iqr\n",
    "\n",
    "df = df[((df['Sales'] > ll) & (df['Sales'] < ul))]"
   ]
  },
  {
   "cell_type": "code",
   "execution_count": 52,
   "id": "3d51c65d",
   "metadata": {},
   "outputs": [
    {
     "data": {
      "text/plain": [
       "(493380, 10)"
      ]
     },
     "execution_count": 52,
     "metadata": {},
     "output_type": "execute_result"
    }
   ],
   "source": [
    "df.shape"
   ]
  },
  {
   "cell_type": "code",
   "execution_count": 53,
   "id": "b1329321",
   "metadata": {},
   "outputs": [
    {
     "data": {
      "text/plain": [
       "0.035"
      ]
     },
     "execution_count": 53,
     "metadata": {},
     "output_type": "execute_result"
    }
   ],
   "source": [
    "df['Competition_Metric'].median()"
   ]
  },
  {
   "cell_type": "code",
   "execution_count": 54,
   "id": "a859ed7e",
   "metadata": {},
   "outputs": [],
   "source": [
    "com_value = df['Competition_Metric'].median()"
   ]
  },
  {
   "cell_type": "code",
   "execution_count": 55,
   "id": "7a9f001d",
   "metadata": {},
   "outputs": [],
   "source": [
    "df['Competition_Metric'].fillna(df['Competition_Metric'].median(), inplace=True)"
   ]
  },
  {
   "cell_type": "code",
   "execution_count": 56,
   "id": "a9e15818",
   "metadata": {},
   "outputs": [
    {
     "data": {
      "text/plain": [
       "0"
      ]
     },
     "execution_count": 56,
     "metadata": {},
     "output_type": "execute_result"
    }
   ],
   "source": [
    "df.isnull().sum().sum()"
   ]
  },
  {
   "cell_type": "code",
   "execution_count": 57,
   "id": "dca3ff69",
   "metadata": {},
   "outputs": [
    {
     "data": {
      "text/plain": [
       "['Course_Domain', 'Course_Type']"
      ]
     },
     "execution_count": 57,
     "metadata": {},
     "output_type": "execute_result"
    }
   ],
   "source": [
    "#encode the categorical variables\n",
    "cat_col = list(df.select_dtypes(exclude='number').columns)\n",
    "cat_col"
   ]
  },
  {
   "cell_type": "code",
   "execution_count": 58,
   "id": "0fd738ec",
   "metadata": {},
   "outputs": [],
   "source": [
    "df = pd.get_dummies(data=df, columns=cat_col, drop_first=True)"
   ]
  },
  {
   "cell_type": "code",
   "execution_count": 59,
   "id": "a51574f4",
   "metadata": {},
   "outputs": [
    {
     "data": {
      "text/plain": [
       "(493380, 13)"
      ]
     },
     "execution_count": 59,
     "metadata": {},
     "output_type": "execute_result"
    }
   ],
   "source": [
    "df.shape"
   ]
  },
  {
   "cell_type": "code",
   "execution_count": 60,
   "id": "bea3add5",
   "metadata": {},
   "outputs": [],
   "source": [
    "#split X and y\n",
    "\n",
    "y = df['Sales']\n",
    "X = df.drop('Sales', axis=1)"
   ]
  },
  {
   "cell_type": "code",
   "execution_count": 61,
   "id": "c8aad5b0",
   "metadata": {},
   "outputs": [
    {
     "data": {
      "text/plain": [
       "((345366, 12), (148014, 12))"
      ]
     },
     "execution_count": 61,
     "metadata": {},
     "output_type": "execute_result"
    }
   ],
   "source": [
    "#train test split\n",
    "from sklearn.model_selection import train_test_split\n",
    "\n",
    "X_train, X_test, y_train, y_test = train_test_split(X, y, test_size=0.30, random_state=42)\n",
    "\n",
    "X_train.shape, X_test.shape"
   ]
  },
  {
   "cell_type": "code",
   "execution_count": 62,
   "id": "d65de26e",
   "metadata": {},
   "outputs": [],
   "source": [
    "#power transform the data\n",
    "\n",
    "from sklearn.preprocessing import PowerTransformer\n",
    "pt = PowerTransformer()"
   ]
  },
  {
   "cell_type": "code",
   "execution_count": 63,
   "id": "52120d6b",
   "metadata": {},
   "outputs": [
    {
     "data": {
      "text/plain": [
       "((345366, 12), (148014, 12))"
      ]
     },
     "execution_count": 63,
     "metadata": {},
     "output_type": "execute_result"
    }
   ],
   "source": [
    "X_train = pt.fit_transform(X_train)\n",
    "X_test = pt.transform(X_test)\n",
    "\n",
    "X_train.shape, X_test.shape"
   ]
  },
  {
   "cell_type": "code",
   "execution_count": 64,
   "id": "74fcc19a",
   "metadata": {},
   "outputs": [
    {
     "data": {
      "text/plain": [
       "Index(['Day_No', 'Course_ID', 'Short_Promotion', 'Public_Holiday',\n",
       "       'Long_Promotion', 'User_Traffic', 'Competition_Metric',\n",
       "       'Course_Domain_Development', 'Course_Domain_Finance & Accounting',\n",
       "       'Course_Domain_Software Marketing', 'Course_Type_Degree',\n",
       "       'Course_Type_Program'],\n",
       "      dtype='object')"
      ]
     },
     "execution_count": 64,
     "metadata": {},
     "output_type": "execute_result"
    }
   ],
   "source": [
    "X_train = pd.DataFrame(X_train, columns=X.columns)\n",
    "X_train.columns"
   ]
  },
  {
   "cell_type": "code",
   "execution_count": 65,
   "id": "e1f2089c",
   "metadata": {},
   "outputs": [
    {
     "data": {
      "text/plain": [
       "Index(['Day_No', 'Course_ID', 'Short_Promotion', 'Public_Holiday',\n",
       "       'Long_Promotion', 'User_Traffic', 'Competition_Metric',\n",
       "       'Course_Domain_Development', 'Course_Domain_Finance & Accounting',\n",
       "       'Course_Domain_Software Marketing', 'Course_Type_Degree',\n",
       "       'Course_Type_Program'],\n",
       "      dtype='object')"
      ]
     },
     "execution_count": 65,
     "metadata": {},
     "output_type": "execute_result"
    }
   ],
   "source": [
    "X_test = pd.DataFrame(X_test, columns=X.columns)\n",
    "X_test.columns"
   ]
  },
  {
   "cell_type": "markdown",
   "id": "44e90418",
   "metadata": {},
   "source": [
    "## Pre-processing the evaluation data"
   ]
  },
  {
   "cell_type": "code",
   "execution_count": 66,
   "id": "32f50da8",
   "metadata": {},
   "outputs": [],
   "source": [
    "df_eval.drop('ID', axis=1, inplace=True)"
   ]
  },
  {
   "cell_type": "code",
   "execution_count": 67,
   "id": "3aaeabdc",
   "metadata": {},
   "outputs": [
    {
     "data": {
      "text/plain": [
       "Index(['Day_No', 'Course_ID', 'Course_Domain', 'Course_Type',\n",
       "       'Short_Promotion', 'Public_Holiday', 'Long_Promotion',\n",
       "       'Competition_Metric'],\n",
       "      dtype='object')"
      ]
     },
     "execution_count": 67,
     "metadata": {},
     "output_type": "execute_result"
    }
   ],
   "source": [
    "df_eval.columns"
   ]
  },
  {
   "cell_type": "code",
   "execution_count": 68,
   "id": "4a535683",
   "metadata": {},
   "outputs": [
    {
     "data": {
      "text/plain": [
       "Day_No                  0\n",
       "Course_ID               0\n",
       "Course_Domain           0\n",
       "Course_Type             0\n",
       "Short_Promotion         0\n",
       "Public_Holiday          0\n",
       "Long_Promotion          0\n",
       "Competition_Metric    120\n",
       "dtype: int64"
      ]
     },
     "execution_count": 68,
     "metadata": {},
     "output_type": "execute_result"
    }
   ],
   "source": [
    "df_eval.isnull().sum()"
   ]
  },
  {
   "cell_type": "code",
   "execution_count": 69,
   "id": "86c8f3f4",
   "metadata": {},
   "outputs": [
    {
     "data": {
      "text/plain": [
       "<AxesSubplot:xlabel='Competition_Metric', ylabel='Density'>"
      ]
     },
     "execution_count": 69,
     "metadata": {},
     "output_type": "execute_result"
    },
    {
     "data": {
      "image/png": "[encoded data removed]",
      "text/plain": [
       "<Figure size 432x288 with 1 Axes>"
      ]
     },
     "metadata": {
      "needs_background": "light"
     },
     "output_type": "display_data"
    }
   ],
   "source": [
    "sns.distplot(df_eval['Competition_Metric'])"
   ]
  },
  {
   "cell_type": "code",
   "execution_count": 70,
   "id": "3f565dfa",
   "metadata": {},
   "outputs": [],
   "source": [
    "df_eval['Competition_Metric'].fillna(com_value, inplace=True)"
   ]
  },
  {
   "cell_type": "code",
   "execution_count": 71,
   "id": "b2a17020",
   "metadata": {},
   "outputs": [
    {
     "data": {
      "text/plain": [
       "(36000, 11)"
      ]
     },
     "execution_count": 71,
     "metadata": {},
     "output_type": "execute_result"
    }
   ],
   "source": [
    "df_eval = pd.get_dummies(data=df_eval, columns=cat_col, drop_first=True)\n",
    "\n",
    "df_eval.shape"
   ]
  },
  {
   "cell_type": "code",
   "execution_count": 72,
   "id": "2f0e2516",
   "metadata": {},
   "outputs": [
    {
     "data": {
      "text/plain": [
       "((345366, 12), (148014, 12))"
      ]
     },
     "execution_count": 72,
     "metadata": {},
     "output_type": "execute_result"
    }
   ],
   "source": [
    "\n",
    "X_train1, X_test1, y_train1, y_test1 = train_test_split(X, y, test_size=0.30, random_state=42)\n",
    "\n",
    "X_train1.shape, X_test1.shape"
   ]
  },
  {
   "cell_type": "code",
   "execution_count": 73,
   "id": "2826dae0",
   "metadata": {},
   "outputs": [
    {
     "data": {
      "text/plain": [
       "((345366, 11), (148014, 11))"
      ]
     },
     "execution_count": 73,
     "metadata": {},
     "output_type": "execute_result"
    }
   ],
   "source": [
    "X_train1.drop('User_Traffic', axis=1, inplace=True)\n",
    "X_test1.drop('User_Traffic', axis=1, inplace=True)\n",
    "\n",
    "X_train1.shape, X_test1.shape"
   ]
  },
  {
   "cell_type": "code",
   "execution_count": 75,
   "id": "838f246e",
   "metadata": {},
   "outputs": [
    {
     "data": {
      "text/plain": [
       "((345366, 11), (148014, 11))"
      ]
     },
     "execution_count": 75,
     "metadata": {},
     "output_type": "execute_result"
    }
   ],
   "source": [
    "X_train1 = pt.fit_transform(X_train1)\n",
    "X_test1 = pt.transform(X_test1)\n",
    "\n",
    "X_train1.shape, X_test1.shape"
   ]
  },
  {
   "cell_type": "code",
   "execution_count": 76,
   "id": "778d2eb2",
   "metadata": {},
   "outputs": [],
   "source": [
    "list(X.columns).remove('User_Traffic')"
   ]
  },
  {
   "cell_type": "code",
   "execution_count": 77,
   "id": "35e85fa1",
   "metadata": {},
   "outputs": [],
   "source": [
    "x_col = ['Day_No', 'Course_ID', 'Short_Promotion', 'Public_Holiday',\n",
    "       'Long_Promotion', 'Competition_Metric',\n",
    "       'Course_Domain_Development', 'Course_Domain_Finance & Accounting',\n",
    "       'Course_Domain_Software Marketing', 'Course_Type_Degree',\n",
    "       'Course_Type_Program']"
   ]
  },
  {
   "cell_type": "code",
   "execution_count": 78,
   "id": "2e38f2f6",
   "metadata": {},
   "outputs": [
    {
     "data": {
      "text/plain": [
       "Index(['Day_No', 'Course_ID', 'Short_Promotion', 'Public_Holiday',\n",
       "       'Long_Promotion', 'Competition_Metric', 'Course_Domain_Development',\n",
       "       'Course_Domain_Finance & Accounting',\n",
       "       'Course_Domain_Software Marketing', 'Course_Type_Degree',\n",
       "       'Course_Type_Program'],\n",
       "      dtype='object')"
      ]
     },
     "execution_count": 78,
     "metadata": {},
     "output_type": "execute_result"
    }
   ],
   "source": [
    "X_train1 = pd.DataFrame(X_train1, columns=x_col)\n",
    "X_train1.columns"
   ]
  },
  {
   "cell_type": "code",
   "execution_count": 79,
   "id": "c3007919",
   "metadata": {},
   "outputs": [
    {
     "data": {
      "text/plain": [
       "Index(['Day_No', 'Course_ID', 'Short_Promotion', 'Public_Holiday',\n",
       "       'Long_Promotion', 'Competition_Metric', 'Course_Domain_Development',\n",
       "       'Course_Domain_Finance & Accounting',\n",
       "       'Course_Domain_Software Marketing', 'Course_Type_Degree',\n",
       "       'Course_Type_Program'],\n",
       "      dtype='object')"
      ]
     },
     "execution_count": 79,
     "metadata": {},
     "output_type": "execute_result"
    }
   ],
   "source": [
    "X_test1 = pd.DataFrame(X_test1, columns=x_col)\n",
    "X_test1.columns"
   ]
  },
  {
   "cell_type": "code",
   "execution_count": 80,
   "id": "f4b873f9",
   "metadata": {},
   "outputs": [
    {
     "data": {
      "text/html": [
       "<div>\n",
       "<style scoped>\n",
       "    .dataframe tbody tr th:only-of-type {\n",
       "        vertical-align: middle;\n",
       "    }\n",
       "\n",
       "    .dataframe tbody tr th {\n",
       "        vertical-align: top;\n",
       "    }\n",
       "\n",
       "    .dataframe thead th {\n",
       "        text-align: right;\n",
       "    }\n",
       "</style>\n",
       "<table border=\"1\" class=\"dataframe\">\n",
       "  <thead>\n",
       "    <tr style=\"text-align: right;\">\n",
       "      <th></th>\n",
       "      <th>Day_No</th>\n",
       "      <th>Course_ID</th>\n",
       "      <th>Short_Promotion</th>\n",
       "      <th>Public_Holiday</th>\n",
       "      <th>Long_Promotion</th>\n",
       "      <th>Competition_Metric</th>\n",
       "      <th>Course_Domain_Development</th>\n",
       "      <th>Course_Domain_Finance &amp; Accounting</th>\n",
       "      <th>Course_Domain_Software Marketing</th>\n",
       "      <th>Course_Type_Degree</th>\n",
       "      <th>Course_Type_Program</th>\n",
       "    </tr>\n",
       "  </thead>\n",
       "  <tbody>\n",
       "    <tr>\n",
       "      <th>0</th>\n",
       "      <td>-0.167999</td>\n",
       "      <td>1.191399</td>\n",
       "      <td>-0.762850</td>\n",
       "      <td>5.462761</td>\n",
       "      <td>-0.989492</td>\n",
       "      <td>-1.243703</td>\n",
       "      <td>0.976380</td>\n",
       "      <td>-0.419975</td>\n",
       "      <td>-0.702528</td>\n",
       "      <td>-0.057243</td>\n",
       "      <td>1.046207</td>\n",
       "    </tr>\n",
       "    <tr>\n",
       "      <th>1</th>\n",
       "      <td>1.195586</td>\n",
       "      <td>-2.084626</td>\n",
       "      <td>-0.762850</td>\n",
       "      <td>-0.183058</td>\n",
       "      <td>-0.989492</td>\n",
       "      <td>1.855642</td>\n",
       "      <td>0.976380</td>\n",
       "      <td>-0.419975</td>\n",
       "      <td>-0.702528</td>\n",
       "      <td>-0.057243</td>\n",
       "      <td>1.046207</td>\n",
       "    </tr>\n",
       "    <tr>\n",
       "      <th>2</th>\n",
       "      <td>-1.250779</td>\n",
       "      <td>-0.658883</td>\n",
       "      <td>1.310874</td>\n",
       "      <td>-0.183058</td>\n",
       "      <td>-0.989492</td>\n",
       "      <td>0.784880</td>\n",
       "      <td>-1.024192</td>\n",
       "      <td>-0.419975</td>\n",
       "      <td>1.423431</td>\n",
       "      <td>-0.057243</td>\n",
       "      <td>1.046207</td>\n",
       "    </tr>\n",
       "    <tr>\n",
       "      <th>3</th>\n",
       "      <td>-0.395207</td>\n",
       "      <td>-1.394742</td>\n",
       "      <td>-0.762850</td>\n",
       "      <td>-0.183058</td>\n",
       "      <td>-0.989492</td>\n",
       "      <td>0.003088</td>\n",
       "      <td>0.976380</td>\n",
       "      <td>-0.419975</td>\n",
       "      <td>-0.702528</td>\n",
       "      <td>-0.057243</td>\n",
       "      <td>-0.955834</td>\n",
       "    </tr>\n",
       "    <tr>\n",
       "      <th>4</th>\n",
       "      <td>-0.698818</td>\n",
       "      <td>-0.370745</td>\n",
       "      <td>-0.762850</td>\n",
       "      <td>-0.183058</td>\n",
       "      <td>1.010619</td>\n",
       "      <td>0.370551</td>\n",
       "      <td>-1.024192</td>\n",
       "      <td>-0.419975</td>\n",
       "      <td>1.423431</td>\n",
       "      <td>-0.057243</td>\n",
       "      <td>1.046207</td>\n",
       "    </tr>\n",
       "    <tr>\n",
       "      <th>...</th>\n",
       "      <td>...</td>\n",
       "      <td>...</td>\n",
       "      <td>...</td>\n",
       "      <td>...</td>\n",
       "      <td>...</td>\n",
       "      <td>...</td>\n",
       "      <td>...</td>\n",
       "      <td>...</td>\n",
       "      <td>...</td>\n",
       "      <td>...</td>\n",
       "      <td>...</td>\n",
       "    </tr>\n",
       "    <tr>\n",
       "      <th>345361</th>\n",
       "      <td>0.594547</td>\n",
       "      <td>0.183209</td>\n",
       "      <td>-0.762850</td>\n",
       "      <td>-0.183058</td>\n",
       "      <td>-0.989492</td>\n",
       "      <td>-0.742947</td>\n",
       "      <td>-1.024192</td>\n",
       "      <td>2.381095</td>\n",
       "      <td>-0.702528</td>\n",
       "      <td>-0.057243</td>\n",
       "      <td>1.046207</td>\n",
       "    </tr>\n",
       "    <tr>\n",
       "      <th>345362</th>\n",
       "      <td>-1.840095</td>\n",
       "      <td>0.848492</td>\n",
       "      <td>-0.762850</td>\n",
       "      <td>-0.183058</td>\n",
       "      <td>1.010619</td>\n",
       "      <td>-0.867698</td>\n",
       "      <td>0.976380</td>\n",
       "      <td>-0.419975</td>\n",
       "      <td>-0.702528</td>\n",
       "      <td>-0.057243</td>\n",
       "      <td>1.046207</td>\n",
       "    </tr>\n",
       "    <tr>\n",
       "      <th>345363</th>\n",
       "      <td>-2.119169</td>\n",
       "      <td>-0.723021</td>\n",
       "      <td>-0.762850</td>\n",
       "      <td>-0.183058</td>\n",
       "      <td>-0.989492</td>\n",
       "      <td>-0.299800</td>\n",
       "      <td>-1.024192</td>\n",
       "      <td>2.381095</td>\n",
       "      <td>-0.702528</td>\n",
       "      <td>-0.057243</td>\n",
       "      <td>-0.955834</td>\n",
       "    </tr>\n",
       "    <tr>\n",
       "      <th>345364</th>\n",
       "      <td>-0.457239</td>\n",
       "      <td>-0.608355</td>\n",
       "      <td>-0.762850</td>\n",
       "      <td>-0.183058</td>\n",
       "      <td>1.010619</td>\n",
       "      <td>-1.171536</td>\n",
       "      <td>0.976380</td>\n",
       "      <td>-0.419975</td>\n",
       "      <td>-0.702528</td>\n",
       "      <td>-0.057243</td>\n",
       "      <td>-0.955834</td>\n",
       "    </tr>\n",
       "    <tr>\n",
       "      <th>345365</th>\n",
       "      <td>0.356097</td>\n",
       "      <td>-0.814801</td>\n",
       "      <td>-0.762850</td>\n",
       "      <td>-0.183058</td>\n",
       "      <td>1.010619</td>\n",
       "      <td>-1.136108</td>\n",
       "      <td>0.976380</td>\n",
       "      <td>-0.419975</td>\n",
       "      <td>-0.702528</td>\n",
       "      <td>-0.057243</td>\n",
       "      <td>-0.955834</td>\n",
       "    </tr>\n",
       "  </tbody>\n",
       "</table>\n",
       "<p>345366 rows × 11 columns</p>\n",
       "</div>"
      ],
      "text/plain": [
       "          Day_No  Course_ID  Short_Promotion  Public_Holiday  Long_Promotion  \\\n",
       "0      -0.167999   1.191399        -0.762850        5.462761       -0.989492   \n",
       "1       1.195586  -2.084626        -0.762850       -0.183058       -0.989492   \n",
       "2      -1.250779  -0.658883         1.310874       -0.183058       -0.989492   \n",
       "3      -0.395207  -1.394742        -0.762850       -0.183058       -0.989492   \n",
       "4      -0.698818  -0.370745        -0.762850       -0.183058        1.010619   \n",
       "...          ...        ...              ...             ...             ...   \n",
       "345361  0.594547   0.183209        -0.762850       -0.183058       -0.989492   \n",
       "345362 -1.840095   0.848492        -0.762850       -0.183058        1.010619   \n",
       "345363 -2.119169  -0.723021        -0.762850       -0.183058       -0.989492   \n",
       "345364 -0.457239  -0.608355        -0.762850       -0.183058        1.010619   \n",
       "345365  0.356097  -0.814801        -0.762850       -0.183058        1.010619   \n",
       "\n",
       "        Competition_Metric  Course_Domain_Development  \\\n",
       "0                -1.243703                   0.976380   \n",
       "1                 1.855642                   0.976380   \n",
       "2                 0.784880                  -1.024192   \n",
       "3                 0.003088                   0.976380   \n",
       "4                 0.370551                  -1.024192   \n",
       "...                    ...                        ...   \n",
       "345361           -0.742947                  -1.024192   \n",
       "345362           -0.867698                   0.976380   \n",
       "345363           -0.299800                  -1.024192   \n",
       "345364           -1.171536                   0.976380   \n",
       "345365           -1.136108                   0.976380   \n",
       "\n",
       "        Course_Domain_Finance & Accounting  Course_Domain_Software Marketing  \\\n",
       "0                                -0.419975                         -0.702528   \n",
       "1                                -0.419975                         -0.702528   \n",
       "2                                -0.419975                          1.423431   \n",
       "3                                -0.419975                         -0.702528   \n",
       "4                                -0.419975                          1.423431   \n",
       "...                                    ...                               ...   \n",
       "345361                            2.381095                         -0.702528   \n",
       "345362                           -0.419975                         -0.702528   \n",
       "345363                            2.381095                         -0.702528   \n",
       "345364                           -0.419975                         -0.702528   \n",
       "345365                           -0.419975                         -0.702528   \n",
       "\n",
       "        Course_Type_Degree  Course_Type_Program  \n",
       "0                -0.057243             1.046207  \n",
       "1                -0.057243             1.046207  \n",
       "2                -0.057243             1.046207  \n",
       "3                -0.057243            -0.955834  \n",
       "4                -0.057243             1.046207  \n",
       "...                    ...                  ...  \n",
       "345361           -0.057243             1.046207  \n",
       "345362           -0.057243             1.046207  \n",
       "345363           -0.057243            -0.955834  \n",
       "345364           -0.057243            -0.955834  \n",
       "345365           -0.057243            -0.955834  \n",
       "\n",
       "[345366 rows x 11 columns]"
      ]
     },
     "execution_count": 80,
     "metadata": {},
     "output_type": "execute_result"
    }
   ],
   "source": [
    "X_train1"
   ]
  },
  {
   "cell_type": "code",
   "execution_count": 81,
   "id": "dea45504",
   "metadata": {},
   "outputs": [
    {
     "data": {
      "text/html": [
       "<div>\n",
       "<style scoped>\n",
       "    .dataframe tbody tr th:only-of-type {\n",
       "        vertical-align: middle;\n",
       "    }\n",
       "\n",
       "    .dataframe tbody tr th {\n",
       "        vertical-align: top;\n",
       "    }\n",
       "\n",
       "    .dataframe thead th {\n",
       "        text-align: right;\n",
       "    }\n",
       "</style>\n",
       "<table border=\"1\" class=\"dataframe\">\n",
       "  <thead>\n",
       "    <tr style=\"text-align: right;\">\n",
       "      <th></th>\n",
       "      <th>Day_No</th>\n",
       "      <th>Course_ID</th>\n",
       "      <th>Short_Promotion</th>\n",
       "      <th>Public_Holiday</th>\n",
       "      <th>Long_Promotion</th>\n",
       "      <th>Competition_Metric</th>\n",
       "      <th>Course_Domain_Development</th>\n",
       "      <th>Course_Domain_Finance &amp; Accounting</th>\n",
       "      <th>Course_Domain_Software Marketing</th>\n",
       "      <th>Course_Type_Degree</th>\n",
       "      <th>Course_Type_Program</th>\n",
       "    </tr>\n",
       "  </thead>\n",
       "  <tbody>\n",
       "    <tr>\n",
       "      <th>0</th>\n",
       "      <td>883</td>\n",
       "      <td>1</td>\n",
       "      <td>1</td>\n",
       "      <td>0</td>\n",
       "      <td>1</td>\n",
       "      <td>0.007</td>\n",
       "      <td>1</td>\n",
       "      <td>0</td>\n",
       "      <td>0</td>\n",
       "      <td>0</td>\n",
       "      <td>0</td>\n",
       "    </tr>\n",
       "    <tr>\n",
       "      <th>1</th>\n",
       "      <td>884</td>\n",
       "      <td>1</td>\n",
       "      <td>1</td>\n",
       "      <td>0</td>\n",
       "      <td>1</td>\n",
       "      <td>0.007</td>\n",
       "      <td>1</td>\n",
       "      <td>0</td>\n",
       "      <td>0</td>\n",
       "      <td>0</td>\n",
       "      <td>0</td>\n",
       "    </tr>\n",
       "    <tr>\n",
       "      <th>2</th>\n",
       "      <td>885</td>\n",
       "      <td>1</td>\n",
       "      <td>1</td>\n",
       "      <td>0</td>\n",
       "      <td>1</td>\n",
       "      <td>0.007</td>\n",
       "      <td>1</td>\n",
       "      <td>0</td>\n",
       "      <td>0</td>\n",
       "      <td>0</td>\n",
       "      <td>0</td>\n",
       "    </tr>\n",
       "    <tr>\n",
       "      <th>3</th>\n",
       "      <td>886</td>\n",
       "      <td>1</td>\n",
       "      <td>1</td>\n",
       "      <td>0</td>\n",
       "      <td>1</td>\n",
       "      <td>0.007</td>\n",
       "      <td>1</td>\n",
       "      <td>0</td>\n",
       "      <td>0</td>\n",
       "      <td>0</td>\n",
       "      <td>0</td>\n",
       "    </tr>\n",
       "    <tr>\n",
       "      <th>4</th>\n",
       "      <td>887</td>\n",
       "      <td>1</td>\n",
       "      <td>0</td>\n",
       "      <td>0</td>\n",
       "      <td>1</td>\n",
       "      <td>0.007</td>\n",
       "      <td>1</td>\n",
       "      <td>0</td>\n",
       "      <td>0</td>\n",
       "      <td>0</td>\n",
       "      <td>0</td>\n",
       "    </tr>\n",
       "    <tr>\n",
       "      <th>...</th>\n",
       "      <td>...</td>\n",
       "      <td>...</td>\n",
       "      <td>...</td>\n",
       "      <td>...</td>\n",
       "      <td>...</td>\n",
       "      <td>...</td>\n",
       "      <td>...</td>\n",
       "      <td>...</td>\n",
       "      <td>...</td>\n",
       "      <td>...</td>\n",
       "      <td>...</td>\n",
       "    </tr>\n",
       "    <tr>\n",
       "      <th>35995</th>\n",
       "      <td>938</td>\n",
       "      <td>600</td>\n",
       "      <td>1</td>\n",
       "      <td>0</td>\n",
       "      <td>1</td>\n",
       "      <td>0.070</td>\n",
       "      <td>0</td>\n",
       "      <td>0</td>\n",
       "      <td>1</td>\n",
       "      <td>0</td>\n",
       "      <td>1</td>\n",
       "    </tr>\n",
       "    <tr>\n",
       "      <th>35996</th>\n",
       "      <td>939</td>\n",
       "      <td>600</td>\n",
       "      <td>1</td>\n",
       "      <td>0</td>\n",
       "      <td>1</td>\n",
       "      <td>0.070</td>\n",
       "      <td>0</td>\n",
       "      <td>0</td>\n",
       "      <td>1</td>\n",
       "      <td>0</td>\n",
       "      <td>1</td>\n",
       "    </tr>\n",
       "    <tr>\n",
       "      <th>35997</th>\n",
       "      <td>940</td>\n",
       "      <td>600</td>\n",
       "      <td>1</td>\n",
       "      <td>0</td>\n",
       "      <td>1</td>\n",
       "      <td>0.070</td>\n",
       "      <td>0</td>\n",
       "      <td>0</td>\n",
       "      <td>1</td>\n",
       "      <td>0</td>\n",
       "      <td>1</td>\n",
       "    </tr>\n",
       "    <tr>\n",
       "      <th>35998</th>\n",
       "      <td>941</td>\n",
       "      <td>600</td>\n",
       "      <td>1</td>\n",
       "      <td>0</td>\n",
       "      <td>1</td>\n",
       "      <td>0.070</td>\n",
       "      <td>0</td>\n",
       "      <td>0</td>\n",
       "      <td>1</td>\n",
       "      <td>0</td>\n",
       "      <td>1</td>\n",
       "    </tr>\n",
       "    <tr>\n",
       "      <th>35999</th>\n",
       "      <td>942</td>\n",
       "      <td>600</td>\n",
       "      <td>1</td>\n",
       "      <td>0</td>\n",
       "      <td>1</td>\n",
       "      <td>0.070</td>\n",
       "      <td>0</td>\n",
       "      <td>0</td>\n",
       "      <td>1</td>\n",
       "      <td>0</td>\n",
       "      <td>1</td>\n",
       "    </tr>\n",
       "  </tbody>\n",
       "</table>\n",
       "<p>36000 rows × 11 columns</p>\n",
       "</div>"
      ],
      "text/plain": [
       "       Day_No  Course_ID  Short_Promotion  Public_Holiday  Long_Promotion  \\\n",
       "0         883          1                1               0               1   \n",
       "1         884          1                1               0               1   \n",
       "2         885          1                1               0               1   \n",
       "3         886          1                1               0               1   \n",
       "4         887          1                0               0               1   \n",
       "...       ...        ...              ...             ...             ...   \n",
       "35995     938        600                1               0               1   \n",
       "35996     939        600                1               0               1   \n",
       "35997     940        600                1               0               1   \n",
       "35998     941        600                1               0               1   \n",
       "35999     942        600                1               0               1   \n",
       "\n",
       "       Competition_Metric  Course_Domain_Development  \\\n",
       "0                   0.007                          1   \n",
       "1                   0.007                          1   \n",
       "2                   0.007                          1   \n",
       "3                   0.007                          1   \n",
       "4                   0.007                          1   \n",
       "...                   ...                        ...   \n",
       "35995               0.070                          0   \n",
       "35996               0.070                          0   \n",
       "35997               0.070                          0   \n",
       "35998               0.070                          0   \n",
       "35999               0.070                          0   \n",
       "\n",
       "       Course_Domain_Finance & Accounting  Course_Domain_Software Marketing  \\\n",
       "0                                       0                                 0   \n",
       "1                                       0                                 0   \n",
       "2                                       0                                 0   \n",
       "3                                       0                                 0   \n",
       "4                                       0                                 0   \n",
       "...                                   ...                               ...   \n",
       "35995                                   0                                 1   \n",
       "35996                                   0                                 1   \n",
       "35997                                   0                                 1   \n",
       "35998                                   0                                 1   \n",
       "35999                                   0                                 1   \n",
       "\n",
       "       Course_Type_Degree  Course_Type_Program  \n",
       "0                       0                    0  \n",
       "1                       0                    0  \n",
       "2                       0                    0  \n",
       "3                       0                    0  \n",
       "4                       0                    0  \n",
       "...                   ...                  ...  \n",
       "35995                   0                    1  \n",
       "35996                   0                    1  \n",
       "35997                   0                    1  \n",
       "35998                   0                    1  \n",
       "35999                   0                    1  \n",
       "\n",
       "[36000 rows x 11 columns]"
      ]
     },
     "execution_count": 81,
     "metadata": {},
     "output_type": "execute_result"
    }
   ],
   "source": [
    "df_eval"
   ]
  },
  {
   "cell_type": "code",
   "execution_count": 82,
   "id": "be981c6d",
   "metadata": {},
   "outputs": [
    {
     "data": {
      "text/plain": [
       "(36000, 11)"
      ]
     },
     "execution_count": 82,
     "metadata": {},
     "output_type": "execute_result"
    }
   ],
   "source": [
    "df_eval = pt.transform(df_eval)\n",
    "\n",
    "df_eval.shape"
   ]
  },
  {
   "cell_type": "code",
   "execution_count": 83,
   "id": "55e96049",
   "metadata": {},
   "outputs": [
    {
     "data": {
      "text/plain": [
       "Index(['Day_No', 'Course_ID', 'Short_Promotion', 'Public_Holiday',\n",
       "       'Long_Promotion', 'Competition_Metric', 'Course_Domain_Development',\n",
       "       'Course_Domain_Finance & Accounting',\n",
       "       'Course_Domain_Software Marketing', 'Course_Type_Degree',\n",
       "       'Course_Type_Program'],\n",
       "      dtype='object')"
      ]
     },
     "execution_count": 83,
     "metadata": {},
     "output_type": "execute_result"
    }
   ],
   "source": [
    "df_eval = pd.DataFrame(df_eval, columns=x_col)\n",
    "\n",
    "df_eval.columns"
   ]
  },
  {
   "cell_type": "code",
   "execution_count": 84,
   "id": "bb430738",
   "metadata": {},
   "outputs": [
    {
     "ename": "NameError",
     "evalue": "name 'df_eval_new' is not defined",
     "output_type": "error",
     "traceback": [
      "\u001b[1;31m---------------------------------------------------------------------------\u001b[0m",
      "\u001b[1;31mNameError\u001b[0m                                 Traceback (most recent call last)",
      "\u001b[1;32m<ipython-input-84-0e489264dd45>\u001b[0m in \u001b[0;36m<module>\u001b[1;34m\u001b[0m\n\u001b[1;32m----> 1\u001b[1;33m \u001b[0mdf_eval_new\u001b[0m\u001b[1;33m\u001b[0m\u001b[1;33m\u001b[0m\u001b[0m\n\u001b[0m",
      "\u001b[1;31mNameError\u001b[0m: name 'df_eval_new' is not defined"
     ]
    }
   ],
   "source": [
    "df_eval_new"
   ]
  },
  {
   "cell_type": "code",
   "execution_count": null,
   "id": "7435511b",
   "metadata": {},
   "outputs": [],
   "source": [
    "df_eval"
   ]
  },
  {
   "cell_type": "markdown",
   "id": "f5b0eae4",
   "metadata": {},
   "source": [
    "# Model building"
   ]
  },
  {
   "cell_type": "code",
   "execution_count": 85,
   "id": "cc4cb2ca",
   "metadata": {},
   "outputs": [],
   "source": [
    "from sklearn.metrics import mean_squared_error, mean_squared_log_error\n",
    "from sklearn.linear_model import LinearRegression\n",
    "import statsmodels.api as sm"
   ]
  },
  {
   "cell_type": "code",
   "execution_count": 86,
   "id": "30589ab6",
   "metadata": {},
   "outputs": [],
   "source": [
    "def rmse(y_test, y_test_pred):\n",
    "    mse = mean_squared_error(y_test, y_test_pred)\n",
    "    return mse"
   ]
  },
  {
   "cell_type": "code",
   "execution_count": 87,
   "id": "f4e7c35d",
   "metadata": {},
   "outputs": [],
   "source": [
    "def rmsle(y_test, y_test_pred):\n",
    "    msle = mean_squared_log_error(y_test, y_test_pred)\n",
    "    return np.sqrt(msle)"
   ]
  },
  {
   "cell_type": "code",
   "execution_count": null,
   "id": "cc1e56dc",
   "metadata": {},
   "outputs": [],
   "source": [
    "Xc = sm.add_constant(X_train)"
   ]
  },
  {
   "cell_type": "code",
   "execution_count": null,
   "id": "74954e70",
   "metadata": {},
   "outputs": [],
   "source": [
    "Xc"
   ]
  },
  {
   "cell_type": "code",
   "execution_count": null,
   "id": "b0e0d48e",
   "metadata": {},
   "outputs": [],
   "source": [
    "model = sm.OLS(y_train, Xc).fit()\n",
    "\n",
    "model.summary()\n",
    "\n",
    "#all the variables are significant"
   ]
  },
  {
   "cell_type": "markdown",
   "id": "af2933d8",
   "metadata": {},
   "source": [
    "### 1.Linear regression"
   ]
  },
  {
   "cell_type": "code",
   "execution_count": 88,
   "id": "f8fbefad",
   "metadata": {},
   "outputs": [],
   "source": [
    "lir = LinearRegression()"
   ]
  },
  {
   "cell_type": "code",
   "execution_count": null,
   "id": "22401f99",
   "metadata": {},
   "outputs": [],
   "source": [
    "### *with user traffic"
   ]
  },
  {
   "cell_type": "code",
   "execution_count": null,
   "id": "25d12e8b",
   "metadata": {},
   "outputs": [],
   "source": [
    "lir.fit(X_train, y_train)\n",
    "\n",
    "y_train_pred = lir.predict(X_train)"
   ]
  },
  {
   "cell_type": "code",
   "execution_count": null,
   "id": "a7275113",
   "metadata": {},
   "outputs": [],
   "source": [
    "y_train [y_train < 0]"
   ]
  },
  {
   "cell_type": "code",
   "execution_count": 89,
   "id": "d9c4d5e8",
   "metadata": {},
   "outputs": [],
   "source": [
    "def posi(data):\n",
    "    posi_data = []\n",
    "    for i in range(len(data)):\n",
    "        if data[i] < 0:\n",
    "            posi_data.append(-(data[i]))\n",
    "        else:\n",
    "            posi_data.append(data[i])\n",
    "    return pd.Series(posi_data)"
   ]
  },
  {
   "cell_type": "code",
   "execution_count": null,
   "id": "a53df911",
   "metadata": {
    "scrolled": true
   },
   "outputs": [],
   "source": [
    "y_train_pred = posi(y_train_pred)"
   ]
  },
  {
   "cell_type": "code",
   "execution_count": null,
   "id": "f083bfb7",
   "metadata": {},
   "outputs": [],
   "source": [
    "y_train_pred"
   ]
  },
  {
   "cell_type": "code",
   "execution_count": null,
   "id": "dbe534b5",
   "metadata": {},
   "outputs": [],
   "source": [
    "y_train_pred [y_train_pred < 0]"
   ]
  },
  {
   "cell_type": "code",
   "execution_count": null,
   "id": "77a8b487",
   "metadata": {},
   "outputs": [],
   "source": [
    "lir.fit(X_train, y_train)\n",
    "\n",
    "y_train_pred = lir.predict(X_train)\n",
    "rmsle(y_train, posi(y_train_pred))"
   ]
  },
  {
   "cell_type": "code",
   "execution_count": null,
   "id": "477dd197",
   "metadata": {},
   "outputs": [],
   "source": [
    "X_train"
   ]
  },
  {
   "cell_type": "code",
   "execution_count": null,
   "id": "606f881b",
   "metadata": {},
   "outputs": [],
   "source": [
    "lir.fit(X_train, y_train)\n",
    "\n",
    "y_test_pred = lir.predict(X_test)\n",
    "rmsle(y_test, posi(y_test_pred))"
   ]
  },
  {
   "cell_type": "code",
   "execution_count": null,
   "id": "5af34a5e",
   "metadata": {},
   "outputs": [],
   "source": [
    "### *without user traffic"
   ]
  },
  {
   "cell_type": "code",
   "execution_count": null,
   "id": "3c011f32",
   "metadata": {},
   "outputs": [],
   "source": [
    "lir.fit(X_train1, y_train)\n",
    "\n",
    "y_train_pred = lir.predict(X_train1)\n",
    "rmsle(y_train, y_train_pred)"
   ]
  },
  {
   "cell_type": "code",
   "execution_count": null,
   "id": "0867eee0",
   "metadata": {},
   "outputs": [],
   "source": [
    "y_test_pred = lir.predict(X_test1)\n",
    "rmsle(y_test, y_test_pred)"
   ]
  },
  {
   "cell_type": "markdown",
   "id": "479a3c65",
   "metadata": {},
   "source": [
    "#### 'User_Traffic'"
   ]
  },
  {
   "cell_type": "code",
   "execution_count": 90,
   "id": "d6117789",
   "metadata": {},
   "outputs": [],
   "source": [
    "X_train_sub = X_train.drop('User_Traffic', axis=1)\n",
    "X_test_sub = X_test.drop('User_Traffic', axis=1)"
   ]
  },
  {
   "cell_type": "code",
   "execution_count": 91,
   "id": "59b715cb",
   "metadata": {},
   "outputs": [],
   "source": [
    "y_train_sub = X_train[['User_Traffic']]\n",
    "y_test_sub = X_test[['User_Traffic']]"
   ]
  },
  {
   "cell_type": "code",
   "execution_count": 92,
   "id": "cfa27a0c",
   "metadata": {},
   "outputs": [
    {
     "data": {
      "text/plain": [
       "((345366, 11), (345366, 1))"
      ]
     },
     "execution_count": 92,
     "metadata": {},
     "output_type": "execute_result"
    }
   ],
   "source": [
    "X_train_sub.shape, y_train_sub.shape"
   ]
  },
  {
   "cell_type": "code",
   "execution_count": 93,
   "id": "b0256f88",
   "metadata": {},
   "outputs": [
    {
     "data": {
      "text/plain": [
       "0.7216080207807504"
      ]
     },
     "execution_count": 93,
     "metadata": {},
     "output_type": "execute_result"
    }
   ],
   "source": [
    "lir = LinearRegression()\n",
    "\n",
    "lir.fit(X_train_sub, y_train_sub)\n",
    "\n",
    "y_train_pred = lir.predict(X_train_sub)\n",
    "rmse(y_train_sub, y_train_pred)"
   ]
  },
  {
   "cell_type": "code",
   "execution_count": 94,
   "id": "ad27951b",
   "metadata": {},
   "outputs": [
    {
     "data": {
      "text/plain": [
       "0.7266708389469703"
      ]
     },
     "execution_count": 94,
     "metadata": {},
     "output_type": "execute_result"
    }
   ],
   "source": [
    "y_test_pred = lir.predict(X_test_sub)\n",
    "rmse(y_test_sub, y_test_pred)"
   ]
  },
  {
   "cell_type": "code",
   "execution_count": 95,
   "id": "3575658a",
   "metadata": {},
   "outputs": [],
   "source": [
    "user_trafic_eval = lir.predict(df_eval)"
   ]
  },
  {
   "cell_type": "code",
   "execution_count": 96,
   "id": "8fa19f64",
   "metadata": {},
   "outputs": [],
   "source": [
    "df_eval_new = df_eval.copy()"
   ]
  },
  {
   "cell_type": "code",
   "execution_count": 97,
   "id": "33c3e665",
   "metadata": {},
   "outputs": [],
   "source": [
    "df_eval_new['User_Traffic'] = user_trafic_eval"
   ]
  },
  {
   "cell_type": "code",
   "execution_count": 98,
   "id": "09e7eb18",
   "metadata": {},
   "outputs": [
    {
     "data": {
      "text/plain": [
       "(36000, 12)"
      ]
     },
     "execution_count": 98,
     "metadata": {},
     "output_type": "execute_result"
    }
   ],
   "source": [
    "df_eval_new.shape"
   ]
  },
  {
   "cell_type": "markdown",
   "id": "5f669321",
   "metadata": {},
   "source": [
    "## Linear model"
   ]
  },
  {
   "cell_type": "code",
   "execution_count": null,
   "id": "e836b520",
   "metadata": {},
   "outputs": [],
   "source": [
    "from sklearn.model_selection import cross_val_score"
   ]
  },
  {
   "cell_type": "code",
   "execution_count": null,
   "id": "01bbf773",
   "metadata": {},
   "outputs": [],
   "source": [
    "lir = LinearRegression()"
   ]
  },
  {
   "cell_type": "code",
   "execution_count": null,
   "id": "708cfafb",
   "metadata": {},
   "outputs": [],
   "source": [
    "cvs = cross_val_score(estimator=lir, X=X_train1, y=y_train1, scoring='neg_mean_squared_log_error', cv=10)\n",
    "cvs"
   ]
  },
  {
   "cell_type": "code",
   "execution_count": null,
   "id": "b8211923",
   "metadata": {},
   "outputs": [],
   "source": [
    "SCORERS.keys()"
   ]
  },
  {
   "cell_type": "code",
   "execution_count": null,
   "id": "8a60c312",
   "metadata": {},
   "outputs": [],
   "source": [
    "cvs.mean() * 1000"
   ]
  },
  {
   "cell_type": "code",
   "execution_count": null,
   "id": "01bdc79c",
   "metadata": {},
   "outputs": [],
   "source": [
    "np.sqrt(148.07)"
   ]
  },
  {
   "cell_type": "code",
   "execution_count": null,
   "id": "e895928d",
   "metadata": {},
   "outputs": [],
   "source": [
    "12.168 * 1000"
   ]
  },
  {
   "cell_type": "code",
   "execution_count": null,
   "id": "77a12ef1",
   "metadata": {},
   "outputs": [],
   "source": [
    "lir = LinearRegression()\n",
    "\n",
    "lir.fit(X_train, y_train)\n",
    "eval_sales = lir.predict(df_eval_new)\n",
    "evaluation_df = copy_df_eval[['ID']]\n",
    "\n",
    "evaluation_df['Sales'] = eval_sales\n",
    "\n",
    "evaluation_df.to_csv('Basic model.csv')"
   ]
  },
  {
   "cell_type": "code",
   "execution_count": null,
   "id": "76b4f764",
   "metadata": {},
   "outputs": [],
   "source": [
    "eval_sales[eval_sales<0]"
   ]
  },
  {
   "cell_type": "code",
   "execution_count": null,
   "id": "71b600ea",
   "metadata": {},
   "outputs": [],
   "source": [
    "evaluation_df.index = evaluation_df.ID"
   ]
  },
  {
   "cell_type": "code",
   "execution_count": null,
   "id": "4fd6be4f",
   "metadata": {},
   "outputs": [],
   "source": [
    "evaluation_df = evaluation_df.drop('ID', axis=1)\n",
    "evaluation_df.to_csv('Basic model.csv')"
   ]
  },
  {
   "cell_type": "code",
   "execution_count": null,
   "id": "ed322a3f",
   "metadata": {},
   "outputs": [],
   "source": [
    "# without user traffic\n",
    "\n",
    "lir = LinearRegression()\n",
    "\n",
    "lir.fit(X_train1, y_train1)\n",
    "eval_sales = lir.predict(df_eval)\n",
    "evaluation_df = copy_df_eval[['ID']]\n",
    "\n",
    "evaluation_df['Sales'] = eval_sales\n",
    "evaluation_df.index = evaluation_df.ID\n",
    "evaluation_df = evaluation_df.drop('ID', axis=1)\n",
    "\n",
    "evaluation_df.to_csv('Basic model without.csv')"
   ]
  },
  {
   "cell_type": "code",
   "execution_count": null,
   "id": "0ebba5a6",
   "metadata": {},
   "outputs": [],
   "source": [
    "X_test1"
   ]
  },
  {
   "cell_type": "code",
   "execution_count": null,
   "id": "07560376",
   "metadata": {},
   "outputs": [],
   "source": [
    "X_full = pd.concat([X_train1, X_test1])"
   ]
  },
  {
   "cell_type": "code",
   "execution_count": null,
   "id": "357708e5",
   "metadata": {},
   "outputs": [],
   "source": [
    "y_full = pd.concat([y_train1, y_test1])"
   ]
  },
  {
   "cell_type": "code",
   "execution_count": null,
   "id": "5403be13",
   "metadata": {},
   "outputs": [],
   "source": [
    "cvs = cross_val_score(estimator=lir, X=X_full, y=y_full, scoring='neg_mean_squared_log_error', cv=10)\n",
    "cvs"
   ]
  },
  {
   "cell_type": "code",
   "execution_count": null,
   "id": "e46bc254",
   "metadata": {},
   "outputs": [],
   "source": [
    "cvs.mean()"
   ]
  },
  {
   "cell_type": "code",
   "execution_count": null,
   "id": "a557e2a1",
   "metadata": {},
   "outputs": [],
   "source": [
    "X_train1.columns"
   ]
  },
  {
   "cell_type": "code",
   "execution_count": null,
   "id": "4f9c6a36",
   "metadata": {},
   "outputs": [],
   "source": [
    "cvs = cross_val_score(estimator=lir, X=X_train1, y=y_train1, scoring='neg_mean_squared_log_error', cv=10)\n",
    "cvs.mean()"
   ]
  },
  {
   "cell_type": "code",
   "execution_count": null,
   "id": "b7a328f9",
   "metadata": {},
   "outputs": [],
   "source": [
    "cvs = cross_val_score(estimator=lir, X=X_train1.drop('Competition_Metric', axis=1), y=y_train1, scoring='neg_mean_squared_log_error', cv=10)\n",
    "cvs.mean()"
   ]
  },
  {
   "cell_type": "markdown",
   "id": "83848b97",
   "metadata": {},
   "source": [
    "# 2. DTC"
   ]
  },
  {
   "cell_type": "code",
   "execution_count": null,
   "id": "1e0ef6fb",
   "metadata": {},
   "outputs": [],
   "source": [
    "from sklearn.tree import DecisionTreeRegressor"
   ]
  },
  {
   "cell_type": "code",
   "execution_count": null,
   "id": "42d6319f",
   "metadata": {},
   "outputs": [],
   "source": [
    "dtc = DecisionTreeRegressor()\n",
    "dtc.fit(X_train1, y_train1)"
   ]
  },
  {
   "cell_type": "code",
   "execution_count": null,
   "id": "7304fd7b",
   "metadata": {},
   "outputs": [],
   "source": [
    "y_train_pred = dtc.predict(X_train1)\n",
    "rmsle(y_train1, y_train_pred)"
   ]
  },
  {
   "cell_type": "code",
   "execution_count": null,
   "id": "b2e7286d",
   "metadata": {},
   "outputs": [],
   "source": [
    "y_test_pred = dtc.predict(X_test1)\n",
    "rmsle(y_test1, y_test_pred)"
   ]
  },
  {
   "cell_type": "code",
   "execution_count": null,
   "id": "acb748b4",
   "metadata": {},
   "outputs": [],
   "source": [
    "dtc = DecisionTreeRegressor(random_state=42)\n",
    "cvs = cross_val_score(estimator=dtc, X=X_train1, y=y_train1, scoring='neg_mean_squared_log_error', cv=10)\n",
    "cvs.mean()"
   ]
  },
  {
   "cell_type": "code",
   "execution_count": null,
   "id": "51f1780b",
   "metadata": {},
   "outputs": [],
   "source": [
    "# tuning"
   ]
  },
  {
   "cell_type": "code",
   "execution_count": null,
   "id": "8d948e9e",
   "metadata": {},
   "outputs": [],
   "source": [
    "from sklearn.model_selection import GridSearchCV, RandomizedSearchCV\n",
    "\n",
    "from scipy.stats import randint as sp_randint"
   ]
  },
  {
   "cell_type": "code",
   "execution_count": null,
   "id": "1ae72d8f",
   "metadata": {},
   "outputs": [],
   "source": [
    "\n",
    "\n",
    "dtc = DecisionTreeRegressor(random_state=4)\n",
    "\n",
    "params = {'max_depth' : sp_randint(2,10),\n",
    "         'min_samples_leaf' : sp_randint(1,12)}\n",
    "\n",
    "rsearch = RandomizedSearchCV(dtc, param_distributions=params, n_iter=25, n_jobs=-1, \n",
    "                             cv=3, scoring='neg_root_mean_squared_error', random_state=4)\n",
    "\n",
    "# RandomizedSearchCV on overall transformed datasets\n",
    "rsearch.fit(X_train1,y_train1)"
   ]
  },
  {
   "cell_type": "code",
   "execution_count": null,
   "id": "233e2d73",
   "metadata": {},
   "outputs": [],
   "source": [
    "#Best parameters\n",
    "print(rsearch.best_params_)"
   ]
  },
  {
   "cell_type": "code",
   "execution_count": null,
   "id": "d4e5e799",
   "metadata": {},
   "outputs": [],
   "source": [
    "dtc = DecisionTreeRegressor(**rsearch.best_params_, random_state=42)\n",
    "\n",
    "cvs = cross_val_score(estimator=dtc, X=X_train1, y=y_train1, scoring='neg_mean_squared_log_error', cv=10)\n",
    "cvs.mean()"
   ]
  },
  {
   "cell_type": "code",
   "execution_count": null,
   "id": "dbf501e3",
   "metadata": {},
   "outputs": [],
   "source": [
    "dtc = DecisionTreeRegressor()\n",
    "dtc.fit(X_train1, y_train1)\n",
    "\n",
    "eval_sales = dtc.predict(df_eval)\n",
    "evaluation_df = copy_df_eval[['ID']]\n",
    "\n",
    "evaluation_df['Sales'] = eval_sales\n",
    "evaluation_df.index = evaluation_df.ID\n",
    "evaluation_df = evaluation_df.drop('ID', axis=1)\n",
    "\n",
    "evaluation_df.to_csv('DTC without tuning.csv')"
   ]
  },
  {
   "cell_type": "markdown",
   "id": "abd87246",
   "metadata": {},
   "source": [
    "# RandomForest"
   ]
  },
  {
   "cell_type": "code",
   "execution_count": null,
   "id": "080b7849",
   "metadata": {},
   "outputs": [],
   "source": [
    "from sklearn.ensemble import RandomForestRegressor"
   ]
  },
  {
   "cell_type": "code",
   "execution_count": null,
   "id": "c1f64b62",
   "metadata": {},
   "outputs": [],
   "source": [
    "rfr = RandomForestRegressor(random_state=4)\n",
    "rfr.fit(X_train1, y_train1)"
   ]
  },
  {
   "cell_type": "code",
   "execution_count": null,
   "id": "604f8714",
   "metadata": {},
   "outputs": [],
   "source": [
    "y_train_pred = rfr.predict(X_train1)\n",
    "rmsle(y_train1, y_train_pred)"
   ]
  },
  {
   "cell_type": "code",
   "execution_count": null,
   "id": "31097345",
   "metadata": {},
   "outputs": [],
   "source": [
    "y_test_pred = rfr.predict(X_test1)\n",
    "rmsle(y_test1, y_test_pred)"
   ]
  },
  {
   "cell_type": "code",
   "execution_count": null,
   "id": "0ad9e5fa",
   "metadata": {},
   "outputs": [],
   "source": [
    "rfr = RandomForestRegressor(random_state=4)\n",
    "cvs = cross_val_score(estimator=rfr, X=X_train1, y=y_train1, scoring='neg_mean_squared_log_error', cv=10)\n",
    "cvs.mean()"
   ]
  },
  {
   "cell_type": "code",
   "execution_count": null,
   "id": "b724d2d9",
   "metadata": {},
   "outputs": [],
   "source": [
    "#tuning"
   ]
  },
  {
   "cell_type": "code",
   "execution_count": null,
   "id": "9e88dbb0",
   "metadata": {},
   "outputs": [],
   "source": [
    "rfr = RandomForestRegressor(random_state=4)\n",
    "\n",
    "\n",
    "params = {'n_estimators': sp_randint(50,200),\n",
    "         'max_features': sp_randint(1,15),\n",
    "         'min_samples_leaf' : sp_randint(1,25),\n",
    "          'max_depth' : sp_randint(1,10)}\n",
    "\n",
    "rsearch = RandomizedSearchCV(rfr, param_distributions=params, cv=3, n_iter=30, verbose=2, \n",
    "                             scoring='neg_root_mean_squared_error', random_state=4, n_jobs=-1)\n",
    "rsearch.fit(X_train1,y_train1)\n",
    "\n"
   ]
  },
  {
   "cell_type": "code",
   "execution_count": null,
   "id": "c0a86835",
   "metadata": {},
   "outputs": [],
   "source": [
    "#Best parameters\n",
    "print(rsearch.best_params_)"
   ]
  },
  {
   "cell_type": "code",
   "execution_count": null,
   "id": "cfc4b290",
   "metadata": {},
   "outputs": [],
   "source": [
    "rfr = RandomForestRegressor(**rsearch.best_params_, random_state=4)\n",
    "\n",
    "\n",
    "cvs = cross_val_score(estimator=rfr, X=X_train1, y=y_train1, scoring='neg_mean_squared_log_error', cv=10)\n",
    "cvs.mean()"
   ]
  },
  {
   "cell_type": "code",
   "execution_count": null,
   "id": "a338fe13",
   "metadata": {},
   "outputs": [],
   "source": [
    "rfr = RandomForestRegressor(random_state=4)\n",
    "rfr.fit(X_train1, y_train1)\n"
   ]
  },
  {
   "cell_type": "code",
   "execution_count": null,
   "id": "1248d059",
   "metadata": {},
   "outputs": [],
   "source": [
    "\n",
    "eval_sales = rfr.predict(df_eval)\n",
    "evaluation_df = copy_df_eval[['ID']]\n",
    "\n",
    "evaluation_df['Sales'] = eval_sales\n",
    "evaluation_df.index = evaluation_df.ID\n",
    "evaluation_df = evaluation_df.drop('ID', axis=1)\n",
    "\n",
    "evaluation_df.to_csv('RFC without tuning.csv')"
   ]
  },
  {
   "cell_type": "markdown",
   "id": "55442b78",
   "metadata": {},
   "source": [
    "# LGBMClassifier"
   ]
  },
  {
   "cell_type": "code",
   "execution_count": null,
   "id": "1c92ba1c",
   "metadata": {},
   "outputs": [],
   "source": [
    "pip install lightgbm"
   ]
  },
  {
   "cell_type": "code",
   "execution_count": null,
   "id": "4ae76ebc",
   "metadata": {},
   "outputs": [],
   "source": [
    "import lightgbm as lgb"
   ]
  },
  {
   "cell_type": "code",
   "execution_count": null,
   "id": "3d8afa7e",
   "metadata": {},
   "outputs": [],
   "source": [
    "lgbc = lgb.LGBMRegressor()\n",
    "lgbc.fit(X_train, y_train)"
   ]
  },
  {
   "cell_type": "code",
   "execution_count": null,
   "id": "61ec6423",
   "metadata": {},
   "outputs": [],
   "source": [
    "y_train_pred = lgbc.predict(X_train)\n",
    "rmsle(y_train, posi(y_train_pred))"
   ]
  },
  {
   "cell_type": "code",
   "execution_count": null,
   "id": "4a7e8338",
   "metadata": {},
   "outputs": [],
   "source": [
    "y_test_pred = lgbc.predict(X_test)\n",
    "rmsle(y_test, posi(y_test_pred))"
   ]
  },
  {
   "cell_type": "code",
   "execution_count": null,
   "id": "0720ef99",
   "metadata": {},
   "outputs": [],
   "source": [
    "y_train_pred[y_train_pred<0]"
   ]
  },
  {
   "cell_type": "code",
   "execution_count": null,
   "id": "e5ff3b11",
   "metadata": {},
   "outputs": [],
   "source": [
    "cvs = cross_val_score(estimator=lgbc, X=X_train1, y=y_train1, scoring='neg_mean_squared_log_error', cv=10)\n",
    "cvs.mean()"
   ]
  },
  {
   "cell_type": "code",
   "execution_count": null,
   "id": "0b1f619b",
   "metadata": {},
   "outputs": [],
   "source": [
    "cvs = cross_val_score(estimator=lgbc, X=X_train, y=y_train, scoring='neg_mean_squared_log_error', cv=10)\n",
    "cvs.mean()"
   ]
  },
  {
   "cell_type": "code",
   "execution_count": null,
   "id": "27d22c6b",
   "metadata": {},
   "outputs": [],
   "source": [
    "lgbc = lgb.LGBMRegressor()\n",
    "lgbc.fit(X_train1, y_train1)\n",
    "\n",
    "\n",
    "eval_sales = lgbc.predict(df_eval)\n",
    "evaluation_df = copy_df_eval[['ID']]\n",
    "\n",
    "evaluation_df['Sales'] = eval_sales\n",
    "evaluation_df.index = evaluation_df.ID\n",
    "evaluation_df = evaluation_df.drop('ID', axis=1)\n",
    "\n",
    "evaluation_df.to_csv('LGBC without tuning.csv')"
   ]
  },
  {
   "cell_type": "code",
   "execution_count": null,
   "id": "38640a06",
   "metadata": {},
   "outputs": [],
   "source": [
    "eval_sales[eval_sales<0]"
   ]
  },
  {
   "cell_type": "code",
   "execution_count": null,
   "id": "dafe3aa9",
   "metadata": {},
   "outputs": [],
   "source": [
    "#tuning"
   ]
  },
  {
   "cell_type": "code",
   "execution_count": null,
   "id": "60c12e32",
   "metadata": {},
   "outputs": [],
   "source": [
    "from scipy.stats import uniform as sp_uniform"
   ]
  },
  {
   "cell_type": "code",
   "execution_count": null,
   "id": "ed986ad5",
   "metadata": {},
   "outputs": [],
   "source": [
    "lgbc = lgb.LGBMRegressor()\n",
    "\n",
    "params = {'n_estimators':sp_randint(50,250),\n",
    "         'max_depth' : sp_randint(1,50),\n",
    "         'learning_rate' : sp_uniform(0,0.5)}\n",
    "\n",
    "rsearch = RandomizedSearchCV(lgbc, param_distributions=params, scoring='neg_mean_squared_log_error', cv=3, n_iter=50,\n",
    "                             n_jobs=-1, random_state=4)\n",
    "rsearch.fit(X_train1, y_train1)"
   ]
  },
  {
   "cell_type": "code",
   "execution_count": null,
   "id": "b022a593",
   "metadata": {},
   "outputs": [],
   "source": [
    "print(rsearch.best_params_)"
   ]
  },
  {
   "cell_type": "code",
   "execution_count": null,
   "id": "2c3d6db2",
   "metadata": {},
   "outputs": [],
   "source": [
    "lgbc = lgb.LGBMRegressor(**rsearch.best_params_, random_state=4)\n",
    "lgbc.fit(X_train1, y_train1)"
   ]
  },
  {
   "cell_type": "code",
   "execution_count": null,
   "id": "447a1e7a",
   "metadata": {},
   "outputs": [],
   "source": [
    "y_train_pred = lgbc.predict(X_train1)\n",
    "rmsle(y_train, posi(y_train_pred))"
   ]
  },
  {
   "cell_type": "code",
   "execution_count": null,
   "id": "523bcdc6",
   "metadata": {},
   "outputs": [],
   "source": [
    "y_test_pred = lgbc.predict(X_test1)\n",
    "rmsle(y_test, posi(y_test_pred))"
   ]
  },
  {
   "cell_type": "code",
   "execution_count": null,
   "id": "caf673e0",
   "metadata": {},
   "outputs": [],
   "source": [
    "lgbc = lgb.LGBMRegressor(**rsearch.best_params_, random_state=4)\n",
    "\n",
    "cvs = cross_val_score(estimator=lgbc, X=X_train1, y=y_train1, scoring='neg_mean_squared_log_error', cv=10)\n",
    "cvs.mean()"
   ]
  },
  {
   "cell_type": "code",
   "execution_count": null,
   "id": "231f5a2a",
   "metadata": {},
   "outputs": [],
   "source": [
    "lgbc = lgb.LGBMRegressor(**rsearch.best_params_, random_state=4)\n",
    "lgbc.fit(X_train1, y_train1)\n",
    "\n",
    "\n",
    "eval_sales = lgbc.predict(df_eval)\n",
    "evaluation_df = copy_df_eval[['ID']]\n",
    "\n",
    "evaluation_df['Sales'] = eval_sales\n",
    "evaluation_df.index = evaluation_df.ID\n",
    "evaluation_df = evaluation_df.drop('ID', axis=1)\n",
    "\n",
    "evaluation_df.to_csv('LGBC tuning.csv')"
   ]
  },
  {
   "cell_type": "markdown",
   "id": "e29ce7ed",
   "metadata": {},
   "source": [
    "# XGBOOST"
   ]
  },
  {
   "cell_type": "code",
   "execution_count": 99,
   "id": "0324f0ad",
   "metadata": {},
   "outputs": [],
   "source": [
    "\n",
    "from xgboost import XGBRegressor\n"
   ]
  },
  {
   "cell_type": "code",
   "execution_count": null,
   "id": "5e42501c",
   "metadata": {},
   "outputs": [],
   "source": [
    "model = XGBRegressor(n_estimators=1000, max_depth=7, eta=0.1, subsample=0.7, colsample_bytree=0.8)"
   ]
  },
  {
   "cell_type": "code",
   "execution_count": null,
   "id": "b40646d0",
   "metadata": {},
   "outputs": [],
   "source": [
    "model.fit(X_train1, y_train1)\n"
   ]
  },
  {
   "cell_type": "code",
   "execution_count": null,
   "id": "e613bfed",
   "metadata": {},
   "outputs": [],
   "source": [
    "y_train_pred = model.predict(X_train1)\n",
    "rmsle(y_train, posi(y_train_pred))"
   ]
  },
  {
   "cell_type": "code",
   "execution_count": null,
   "id": "bfe12ca4",
   "metadata": {},
   "outputs": [],
   "source": [
    "y_test_pred = lgbc.predict(X_test1)\n",
    "rmsle(y_test, posi(y_test_pred))"
   ]
  },
  {
   "cell_type": "code",
   "execution_count": null,
   "id": "80a57267",
   "metadata": {},
   "outputs": [],
   "source": [
    "model.fit(X_train, y_train)"
   ]
  },
  {
   "cell_type": "code",
   "execution_count": null,
   "id": "5afde668",
   "metadata": {},
   "outputs": [],
   "source": [
    "y_train_pred = model.predict(X_train)\n",
    "rmsle(y_train, posi(y_train_pred))"
   ]
  },
  {
   "cell_type": "code",
   "execution_count": null,
   "id": "31224671",
   "metadata": {},
   "outputs": [],
   "source": [
    "y_test_pred = model.predict(X_test)\n",
    "rmsle(y_test, posi(y_test_pred))"
   ]
  },
  {
   "cell_type": "code",
   "execution_count": null,
   "id": "abe9c658",
   "metadata": {},
   "outputs": [],
   "source": [
    "model = XGBRegressor(n_estimators=1000, max_depth=7, eta=0.1, subsample=0.7, colsample_bytree=0.8)\n",
    "\n",
    "model.fit(X_train1, y_train1)\n",
    "\n",
    "eval_sales = model.predict(df_eval)\n",
    "evaluation_df = copy_df_eval[['ID']]\n",
    "\n",
    "evaluation_df['Sales'] = eval_sales\n",
    "evaluation_df.index = evaluation_df.ID\n",
    "evaluation_df = evaluation_df.drop('ID', axis=1)\n",
    "\n",
    "evaluation_df.to_csv('XGBOOST.csv')"
   ]
  },
  {
   "cell_type": "code",
   "execution_count": null,
   "id": "b4da73c2",
   "metadata": {},
   "outputs": [],
   "source": [
    "#tuning"
   ]
  },
  {
   "cell_type": "code",
   "execution_count": null,
   "id": "e7ccc8e5",
   "metadata": {},
   "outputs": [],
   "source": [
    "model = XGBRegressor(n_estimators=1000, max_depth=7, eta=0.1, subsample=0.7, colsample_bytree=0.8)\n",
    "\n",
    "param_dist = {\"max_depth\": [5, 10, 15, 30, 50],\n",
    "              \"n_estimators\": [100, 200, 300],\n",
    "              \"learning_rate\": [0.05, 0.1, 0.15, 0.2, 0.3],\n",
    "             \"reg_alpha\": [0, 0.01, 0.1, 1, 10],\n",
    "             \"reg_lambda\": [0, 0.01, 0.1, 1, 10]}\n",
    "\n",
    "grid_search = RandomizedSearchCV(model, param_dist, cv = 3, n_iter = 50,  \n",
    "                                   verbose=10, n_jobs=-1, scoring = \"f1\")\n",
    "\n",
    "grid_search.fit(X_train1, y_train1)"
   ]
  },
  {
   "cell_type": "code",
   "execution_count": 100,
   "id": "1155ea3f",
   "metadata": {},
   "outputs": [
    {
     "data": {
      "text/plain": [
       "XGBRegressor(base_score=0.5, booster='gbtree', colsample_bylevel=1,\n",
       "             colsample_bynode=1, colsample_bytree=1, gamma=0, gpu_id=-1,\n",
       "             importance_type='gain', interaction_constraints='',\n",
       "             learning_rate=0.3, max_delta_step=0, max_depth=10,\n",
       "             min_child_weight=1, missing=nan, monotone_constraints='()',\n",
       "             n_estimators=300, n_jobs=8, num_parallel_tree=1, random_state=0,\n",
       "             reg_alpha=1, reg_lambda=10, scale_pos_weight=1, subsample=1,\n",
       "             tree_method='exact', validate_parameters=1, verbosity=None)"
      ]
     },
     "execution_count": 100,
     "metadata": {},
     "output_type": "execute_result"
    }
   ],
   "source": [
    "model = XGBRegressor(base_score=0.5, booster='gbtree', colsample_bylevel=1,\n",
    "             colsample_bynode=1, colsample_bytree=1, gamma=0, gpu_id=-1,\n",
    "             importance_type='gain', interaction_constraints='',\n",
    "             learning_rate=0.3, max_delta_step=0, max_depth=10,\n",
    "             min_child_weight=1, monotone_constraints='()',\n",
    "             n_estimators=300, n_jobs=8, num_parallel_tree=1, random_state=0,\n",
    "             reg_alpha=1, reg_lambda=10, scale_pos_weight=1, subsample=1,\n",
    "             tree_method='exact', validate_parameters=1, verbosity=None)\n",
    "\n",
    "model.fit(X_train1, y_train1)"
   ]
  },
  {
   "cell_type": "code",
   "execution_count": 101,
   "id": "a9f24655",
   "metadata": {},
   "outputs": [
    {
     "data": {
      "text/plain": [
       "0.1367375051404298"
      ]
     },
     "execution_count": 101,
     "metadata": {},
     "output_type": "execute_result"
    }
   ],
   "source": [
    "y_train_pred = model.predict(X_train1)\n",
    "rmsle(y_train, posi(y_train_pred))\n"
   ]
  },
  {
   "cell_type": "code",
   "execution_count": 102,
   "id": "7885ace3",
   "metadata": {},
   "outputs": [
    {
     "data": {
      "text/plain": [
       "132.90620515113375"
      ]
     },
     "execution_count": 102,
     "metadata": {},
     "output_type": "execute_result"
    }
   ],
   "source": [
    "rmse(y_train, y_train_pred)"
   ]
  },
  {
   "cell_type": "code",
   "execution_count": 104,
   "id": "cbacdd5e",
   "metadata": {},
   "outputs": [
    {
     "data": {
      "text/plain": [
       "205.8661655066018"
      ]
     },
     "execution_count": 104,
     "metadata": {},
     "output_type": "execute_result"
    }
   ],
   "source": [
    "y_test_pred = model.predict(X_test1)\n",
    "rmsle(y_test, posi(y_test_pred))\n",
    "\n",
    "rmse(y_test, y_test_pred)"
   ]
  },
  {
   "cell_type": "code",
   "execution_count": 105,
   "id": "c5cd8197",
   "metadata": {},
   "outputs": [
    {
     "data": {
      "text/plain": [
       "0.16574361696729303"
      ]
     },
     "execution_count": 105,
     "metadata": {},
     "output_type": "execute_result"
    }
   ],
   "source": [
    "rmsle(y_test, posi(y_test_pred))"
   ]
  },
  {
   "cell_type": "code",
   "execution_count": 106,
   "id": "f5e3d607",
   "metadata": {},
   "outputs": [],
   "source": [
    "eval_sales = model.predict(df_eval)\n",
    "evaluation_df = copy_df_eval[['ID']]\n",
    "\n",
    "evaluation_df['Sales'] = eval_sales\n",
    "evaluation_df.index = evaluation_df.ID\n",
    "evaluation_df = evaluation_df.drop('ID', axis=1)\n",
    "\n",
    "evaluation_df.to_csv('XGBOOST final.csv')"
   ]
  },
  {
   "cell_type": "code",
   "execution_count": 107,
   "id": "bf0038fa",
   "metadata": {},
   "outputs": [
    {
     "data": {
      "text/html": [
       "<div>\n",
       "<style scoped>\n",
       "    .dataframe tbody tr th:only-of-type {\n",
       "        vertical-align: middle;\n",
       "    }\n",
       "\n",
       "    .dataframe tbody tr th {\n",
       "        vertical-align: top;\n",
       "    }\n",
       "\n",
       "    .dataframe thead th {\n",
       "        text-align: right;\n",
       "    }\n",
       "</style>\n",
       "<table border=\"1\" class=\"dataframe\">\n",
       "  <thead>\n",
       "    <tr style=\"text-align: right;\">\n",
       "      <th></th>\n",
       "      <th>ID</th>\n",
       "      <th>Sales</th>\n",
       "    </tr>\n",
       "  </thead>\n",
       "  <tbody>\n",
       "    <tr>\n",
       "      <th>0</th>\n",
       "      <td>883</td>\n",
       "      <td>113.76</td>\n",
       "    </tr>\n",
       "    <tr>\n",
       "      <th>1</th>\n",
       "      <td>884</td>\n",
       "      <td>113.76</td>\n",
       "    </tr>\n",
       "    <tr>\n",
       "      <th>2</th>\n",
       "      <td>885</td>\n",
       "      <td>113.76</td>\n",
       "    </tr>\n",
       "    <tr>\n",
       "      <th>3</th>\n",
       "      <td>886</td>\n",
       "      <td>113.76</td>\n",
       "    </tr>\n",
       "    <tr>\n",
       "      <th>4</th>\n",
       "      <td>887</td>\n",
       "      <td>81.75</td>\n",
       "    </tr>\n",
       "    <tr>\n",
       "      <th>...</th>\n",
       "      <td>...</td>\n",
       "      <td>...</td>\n",
       "    </tr>\n",
       "    <tr>\n",
       "      <th>35995</th>\n",
       "      <td>548083</td>\n",
       "      <td>145.01</td>\n",
       "    </tr>\n",
       "    <tr>\n",
       "      <th>35996</th>\n",
       "      <td>548084</td>\n",
       "      <td>145.01</td>\n",
       "    </tr>\n",
       "    <tr>\n",
       "      <th>35997</th>\n",
       "      <td>548085</td>\n",
       "      <td>145.01</td>\n",
       "    </tr>\n",
       "    <tr>\n",
       "      <th>35998</th>\n",
       "      <td>548086</td>\n",
       "      <td>145.01</td>\n",
       "    </tr>\n",
       "    <tr>\n",
       "      <th>35999</th>\n",
       "      <td>548087</td>\n",
       "      <td>145.01</td>\n",
       "    </tr>\n",
       "  </tbody>\n",
       "</table>\n",
       "<p>36000 rows × 2 columns</p>\n",
       "</div>"
      ],
      "text/plain": [
       "           ID   Sales\n",
       "0         883  113.76\n",
       "1         884  113.76\n",
       "2         885  113.76\n",
       "3         886  113.76\n",
       "4         887   81.75\n",
       "...       ...     ...\n",
       "35995  548083  145.01\n",
       "35996  548084  145.01\n",
       "35997  548085  145.01\n",
       "35998  548086  145.01\n",
       "35999  548087  145.01\n",
       "\n",
       "[36000 rows x 2 columns]"
      ]
     },
     "execution_count": 107,
     "metadata": {},
     "output_type": "execute_result"
    }
   ],
   "source": [
    "rfc = pd.read_csv('RFC without tuning.csv')\n",
    "rfc"
   ]
  },
  {
   "cell_type": "code",
   "execution_count": 109,
   "id": "3dfb35d3",
   "metadata": {},
   "outputs": [
    {
     "data": {
      "text/plain": [
       "0        -6.571848\n",
       "1        -6.571848\n",
       "2        -6.571848\n",
       "3        -6.571848\n",
       "4        16.524788\n",
       "           ...    \n",
       "35995   -11.130518\n",
       "35996   -11.130518\n",
       "35997   -11.130518\n",
       "35998   -11.130518\n",
       "35999   -11.130518\n",
       "Name: Sales, Length: 36000, dtype: float64"
      ]
     },
     "execution_count": 109,
     "metadata": {},
     "output_type": "execute_result"
    }
   ],
   "source": [
    "rfc['Sales'] - eval_sales"
   ]
  },
  {
   "cell_type": "code",
   "execution_count": 116,
   "id": "bbc05e5c",
   "metadata": {},
   "outputs": [
    {
     "data": {
      "text/plain": [
       "XGBRegressor(base_score=0.5, booster='gbtree', colsample_bylevel=1,\n",
       "             colsample_bynode=1, colsample_bytree=1, eta=0.05, gamma=1,\n",
       "             gpu_id=-1, importance_type='gain', interaction_constraints='',\n",
       "             learning_rate=0.0500000007, max_delta_step=0, max_depth=2,\n",
       "             min_child_weight=10, missing=nan, monotone_constraints='()',\n",
       "             n_estimators=100, n_jobs=8, num_parallel_tree=1, random_state=0,\n",
       "             reg_alpha=0, reg_lambda=1, scale_pos_weight=1, subsample=0.8,\n",
       "             tree_method='exact', validate_parameters=1, verbosity=None)"
      ]
     },
     "execution_count": 116,
     "metadata": {},
     "output_type": "execute_result"
    }
   ],
   "source": [
    "model = XGBRegressor(base_score=0.5, booster='gbtree', colsample_bylevel=1,\n",
    "             colsample_bynode=1, colsample_bytree=1, eta=0.05, gamma=1,\n",
    "             gpu_id=-1, importance_type='gain', interaction_constraints='',\n",
    "             learning_rate=0.0500000007, max_delta_step=0, max_depth=2,\n",
    "             min_child_weight=10, missing=np.nan, monotone_constraints='()',\n",
    "             n_estimators=100, n_jobs=8, num_parallel_tree=1, random_state=0,\n",
    "             reg_alpha=0, reg_lambda=1, scale_pos_weight=1, subsample=0.8,\n",
    "             tree_method='exact', validate_parameters=1, verbosity=None)\n",
    "\n",
    "model.fit(X_train1, y_train1)\n",
    "\n",
    "\n"
   ]
  },
  {
   "cell_type": "code",
   "execution_count": 117,
   "id": "039f360e",
   "metadata": {},
   "outputs": [],
   "source": [
    "eval_sales = model.predict(df_eval)\n",
    "evaluation_df = copy_df_eval[['ID']]\n",
    "\n",
    "evaluation_df['Sales'] = eval_sales\n",
    "evaluation_df.index = evaluation_df.ID\n",
    "evaluation_df = evaluation_df.drop('ID', axis=1)\n",
    "\n",
    "evaluation_df.to_csv('XGBOOST final.csv')"
   ]
  },
  {
   "cell_type": "code",
   "execution_count": null,
   "id": "2e2eab0e",
   "metadata": {},
   "outputs": [],
   "source": []
  }
 ],
 "metadata": {
  "kernelspec": {
   "display_name": "Python 3",
   "language": "python",
   "name": "python3"
  },
  "language_info": {
   "codemirror_mode": {
    "name": "ipython",
    "version": 3
   },
   "file_extension": ".py",
   "mimetype": "text/x-python",
   "name": "python",
   "nbconvert_exporter": "python",
   "pygments_lexer": "ipython3",
   "version": "3.8.8"
  }
 },
 "nbformat": 4,
 "nbformat_minor": 5
}
